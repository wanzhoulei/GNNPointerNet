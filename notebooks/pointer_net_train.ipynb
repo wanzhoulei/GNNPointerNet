{
 "cells": [
  {
   "cell_type": "code",
   "execution_count": 1,
   "id": "408cf348-27ab-42f1-a9b4-b8811394ef2a",
   "metadata": {},
   "outputs": [
    {
     "name": "stdout",
     "output_type": "stream",
     "text": [
      "Using cpu\n"
     ]
    }
   ],
   "source": [
    "import torch\n",
    "import torch.nn as nn\n",
    "from torch_geometric.nn import MessagePassing\n",
    "from torch_geometric.utils import add_self_loops\n",
    "from torch.nn import Sequential as Seq, Linear as Lin, ReLU\n",
    "import numpy as np\n",
    "import torch.nn.functional as F\n",
    "import pickle\n",
    "from data import *\n",
    "from util import *\n",
    "from model import *\n",
    "from loss_functions import *\n",
    "\n",
    "device = torch.device('cuda' if torch.cuda.is_available() else 'cpu')\n",
    "print(\"Using {}\".format(device))"
   ]
  },
  {
   "cell_type": "code",
   "execution_count": 2,
   "id": "a7366a31-0b4a-455f-a0e2-a7a1dc4b5f3b",
   "metadata": {},
   "outputs": [],
   "source": [
    "#train set\n",
    "data = np.load(\"train_10000_bfs_k5_N20.npz\")\n",
    "X_loaded = torch.Tensor(data[\"X\"]).to(device) #shape N, 20, 2 N = 10000\n",
    "tri_loaded = torch.Tensor(data[\"tri\"]).to(device)\n",
    "\n",
    "train_dataset = GraphDataSet_new(X_loaded, tri_loaded)\n",
    "batch_size = 256\n",
    "train_loader = DataLoader(train_dataset, batch_size=batch_size, shuffle=True)\n",
    "\n",
    "#test set\n",
    "data_test = np.load(\"test_5000_bfs_k5_N20.npz\")\n",
    "X_test = torch.Tensor(data_test[\"X\"]).to(device) #shape N, 20, 2 N = 10000\n",
    "tri_test = torch.Tensor(data_test[\"tri\"]).to(device)\n",
    "\n",
    "test_dataset = GraphDataSet_new(X_test, tri_test)\n",
    "batch_size = 256\n",
    "test_loader = DataLoader(test_dataset, batch_size=batch_size, shuffle=True)"
   ]
  },
  {
   "cell_type": "code",
   "execution_count": 3,
   "id": "445cd869-66cd-4781-a002-765f1ffcb09a",
   "metadata": {
    "scrolled": true
   },
   "outputs": [],
   "source": [
    "##structure for the MPGNN Pointer network\n",
    "class EdgeNetwork(nn.Module):\n",
    "    '''\n",
    "    The MLP that takes starting vertex and ending vertex and the edge embedding\n",
    "    and compute the message Phi(x_i, x_j, e_ij)\n",
    "    '''\n",
    "    def __init__(self, input_dim, hidden_dim, message_dim):\n",
    "        '''\n",
    "        Args:\n",
    "            input_dim: the dimension of input: len(x_i) + len(x_j) + len(e_ij)\n",
    "            hidden_dim: hidden dimension\n",
    "            messgage_dim: the dimension of the message vector \n",
    "        '''\n",
    "        super().__init__()\n",
    "        self.edge_mlp = Seq(\n",
    "            Lin(input_dim, hidden_dim),\n",
    "            ReLU(),\n",
    "            Lin(hidden_dim, message_dim)\n",
    "        )\n",
    "\n",
    "    def forward(self, edge_attr, x_i, x_j):\n",
    "        out = torch.cat([x_i, x_j, edge_attr], dim=1)\n",
    "        return self.edge_mlp(out)\n",
    "    \n",
    "\n",
    "class MPNNWithEdgeUpdate(MessagePassing):\n",
    "    '''\n",
    "    One layer of message passing: gamma (x_i, agg(Phi(x_i, x_j, e_ij)))\n",
    "    '''\n",
    "    def __init__(self, node_dim, edge_dim, hidden_dim, message_dim, new_node_dim, new_edge_dim, initial=False):\n",
    "        super().__init__(aggr='add')  # sum aggregation\n",
    "        \n",
    "        #the neural network Phi to create the message from xi, xj and eij\n",
    "        self.message_mlp = EdgeNetwork(new_edge_dim + 2 * node_dim, hidden_dim, message_dim)\n",
    "\n",
    "\n",
    "        #the network to update node embedding \n",
    "        self.node_update = Seq(\n",
    "            Lin(node_dim + message_dim, hidden_dim),\n",
    "            ReLU(),\n",
    "            Lin(hidden_dim, new_node_dim)\n",
    "        )\n",
    "\n",
    "        #the network to update edge embedding\n",
    "        self.edge_network = EdgeNetwork(edge_dim + 2 * node_dim, hidden_dim, new_edge_dim)\n",
    "\n",
    "    def forward(self, batched_data):\n",
    "        '''\n",
    "        forward function of one layer of message passing \n",
    "\n",
    "        Args:\n",
    "            batched_data: pyg batched data type must contains the following attributes\n",
    "                x: [B*N, node_dim] the embeddings of all the vertices in one batch\n",
    "                edge_attr: [num_edges, edge_dim] the embeddings of all edges in one batch\n",
    "                edge_index: [2, B*N] indices of connected edges in the batched graph\n",
    "\n",
    "        Returns:\n",
    "            node_embeddings: [B*N, new_node_embedding_dim] embeddings of all nodes in new embedding dimension\n",
    "            edge_embeddings: [num_edges, new_edge_embedding_dim] embeddings of all edges in new edge embedding dimension\n",
    "\n",
    "        '''\n",
    "        # x: [num_nodes, node_dim]\n",
    "        # edge_attr: [num_edges, edge_dim]\n",
    "        x = batched_data.x; edge_index =batched_data.edge_index; edge_attr = batched_data.edge_attr\n",
    "        \n",
    "        return self.propagate(edge_index, x=x, edge_attr=edge_attr), self.updated_edge_attr\n",
    "\n",
    "    def message(self, x_i, x_j, edge_attr):\n",
    "        # Compute edge-updated features first \n",
    "        updated_edge_attr = self.edge_network(edge_attr, x_i, x_j)\n",
    "        self.updated_edge_attr = updated_edge_attr\n",
    "        #msg_input = torch.cat([x_i, x_j, updated_edge_attr], dim=1)\n",
    "        return self.message_mlp(updated_edge_attr, x_i, x_j)\n",
    "\n",
    "    def update(self, aggr_out, x):\n",
    "        node_input = torch.cat([x, aggr_out], dim=1)\n",
    "        return self.node_update(node_input)\n",
    "\n",
    "class MP_GNN(nn.Module):\n",
    "    '''\n",
    "    This is the message passing graph neural network that contains several message passing layers\n",
    "    '''\n",
    "    def __init__(self, initial_node_dim, initial_edge_dim, embedding_dim, num_layers):\n",
    "        super().__init__()\n",
    "        self.num_layers = num_layers\n",
    "        self.initial_layer = MPNNWithEdgeUpdate(initial_node_dim, initial_edge_dim, \n",
    "                                                embedding_dim, embedding_dim, embedding_dim, embedding_dim)\n",
    "\n",
    "        self.layers_list = nn.ModuleList()\n",
    "        for _ in range(num_layers-1):\n",
    "            self.layers_list.append(MPNNWithEdgeUpdate(embedding_dim, embedding_dim, \n",
    "                                                embedding_dim, embedding_dim, embedding_dim, embedding_dim))\n",
    "\n",
    "    def forward(self, batched_data):\n",
    "        ##add the self adge first\n",
    "        edge_index, edge_attr = add_self_loops(batched_data.edge_index, edge_attr=batched_data.edge_attr, fill_value=0.0, \n",
    "                                               num_nodes=batched_data.x.size(0))\n",
    "        batched_data.edge_index = edge_index; batched_data.edge_attr = edge_attr\n",
    "        \n",
    "        #goes through the first layer\n",
    "        x, edge_attr = self.initial_layer(batched_data)\n",
    "        batched_data.x = x; batched_data.edge_attr = edge_attr\n",
    "        #goes through all the remianin layers\n",
    "        for layer in self.layers_list:\n",
    "            x, edge_attr = layer(batched_data)\n",
    "            batched_data.x = x; batched_data.edge_attr = edge_attr\n",
    "        return x, edge_attr\n",
    "\n",
    "\n",
    "class EncoderLSTM(nn.Module):\n",
    "    \"\"\"\n",
    "    LSTM Encoder:\n",
    "      - input:  (batch_size, seq_len, input_dim)\n",
    "      - output: (batch_size, seq_len, hidden_dim) + (h, c) final states\n",
    "    \"\"\"\n",
    "    def __init__(self, input_dim, hidden_dim, num_layers=1):\n",
    "        super().__init__()\n",
    "        self.hidden_dim = hidden_dim\n",
    "        self.lstm = nn.LSTM(\n",
    "            input_size=input_dim,\n",
    "            hidden_size=hidden_dim,\n",
    "            num_layers=num_layers,\n",
    "            batch_first=True,\n",
    "            bidirectional=False\n",
    "        )\n",
    "        \n",
    "    def forward(self, x):\n",
    "        \"\"\"\n",
    "        Args:\n",
    "          x: (batch_size, seq_len, input_dim)\n",
    "        Returns:\n",
    "          encoder_outputs: (batch_size, seq_len, hidden_dim)\n",
    "          (h, c): final hidden, cell states\n",
    "        \"\"\"\n",
    "        encoder_outputs, (h, c) = self.lstm(x)  # h,c shape: (num_layers, batch, hidden_dim)\n",
    "        return encoder_outputs, (h, c)\n",
    "\n",
    "class DecoderLSTM(nn.Module):\n",
    "    \"\"\"\n",
    "    LSTM Decoder:\n",
    "      - We run for multiple steps (each step can produce one triangle).\n",
    "      - Input size = 3 * hidden_dim (since we feed a concatenation of 3 node embeddings).\n",
    "      - On each step, we produce a pointer distribution over (N+1) \"nodes\":\n",
    "        the real N nodes + 1 \"end token\" node.\n",
    "    \"\"\"\n",
    "    def __init__(self, hidden_dim, num_layers=1):\n",
    "        super().__init__()\n",
    "        self.hidden_dim = hidden_dim\n",
    "        \n",
    "        # LSTMCell expects input_size = 3*hidden_dim (concatenation of 3 node embeddings)\n",
    "        self.input_size = 3 * hidden_dim\n",
    "        self.lstm_cell = nn.LSTMCell(self.input_size, hidden_dim)\n",
    "        \n",
    "        # A transform for the pointer \"query\" if desired\n",
    "        self.query_transform = nn.Linear(hidden_dim, hidden_dim)\n",
    "\n",
    "    def forward(self,\n",
    "                encoder_outputs,\n",
    "                hidden,\n",
    "                cell,\n",
    "                end_node_embed,\n",
    "                initial_input,\n",
    "                max_steps=10, \n",
    "                teacher_indices=None):\n",
    "        \"\"\"\n",
    "        Args:\n",
    "          encoder_outputs: (batch_size, N, hidden_dim)\n",
    "            - includes real node embeddings for the first N-1 positions\n",
    "            - the last position is the \"end token\" embedding\n",
    "          hidden, cell: initial hidden/cell states for the decoder\n",
    "          end_node_embed: (1, hidden_dim) - if you need it separately for something\n",
    "          initial_input: (batch_size, 3*hidden_dim) start token embedding\n",
    "          max_steps: the maximum number of triangles to decode\n",
    "          teacher_indices: shape (batch_size, max_steps, 3), or None\n",
    "              if None, Prediction mode\n",
    "              if not None, train mode, where the input will be truth triangles\n",
    "          \n",
    "        Returns:\n",
    "          pointer_logits_list: tensor of shape (max_steps, B, N+1)\n",
    "          chosen_indices_list: tensor of shape (max_steps, B, 3)\n",
    "        \"\"\"\n",
    "        batch_size, N, hd = encoder_outputs.shape\n",
    "        \n",
    "        pointer_logits_list = []\n",
    "        chosen_indices_list = []\n",
    "\n",
    "        # We'll use the given initial_input for step 0\n",
    "        # for later step, it will be either from teacher enforcing or from the model's own prediction \n",
    "        input_t = initial_input  # shape (batch_size, 3*hidden_dim)\n",
    "\n",
    "        #pad the teacher_indices if len < max_steps\n",
    "        if teacher_indices is not None and teacher_indices.shape[1] < max_steps:\n",
    "            teacher_indices = F.pad(teacher_indices, (0, 0, 0, max_steps-teacher_indices.shape[1]), value=-1).to(torch.int)\n",
    "\n",
    "        for t in range(max_steps):\n",
    "            # LSTMCell step\n",
    "            hidden, cell = self.lstm_cell(input_t, (hidden, cell))\n",
    "\n",
    "            # Pointer distribution\n",
    "            query = self.query_transform(hidden)   # (batch_size, hidden_dim)\n",
    "            query_expanded = query.unsqueeze(1).expand(-1, N, -1)  # (batch_size, N, hidden_dim)\n",
    "            pointer_logits = torch.sum(query_expanded * encoder_outputs, dim=-1)  # (batch_size, N)\n",
    "            pointer_logits_list.append(pointer_logits)\n",
    "\n",
    "            _, top3_indices = torch.topk(pointer_logits, k=3, dim=1)  # (batch_size, 3)\n",
    "\n",
    "            # Pick top-3 from pointer logits or from teacher enforcing solution \n",
    "            if teacher_indices is None:\n",
    "                next_indices = top3_indices\n",
    "            else:\n",
    "                ##teacher forcing mode, use ground truth \n",
    "                next_indices = teacher_indices[:, t, :].to(torch.int64)  # shape (batch_size, 3)\n",
    "                next_indices[next_indices == -1] = 0 # replace -1 with 0 because gather does not accept -1\n",
    "                \n",
    "\n",
    "            chosen_indices_list.append(top3_indices)\n",
    "\n",
    "            # Build the next input by concatenating the chosen embeddings\n",
    "            top3_vectors = torch.gather(\n",
    "                encoder_outputs,  # (batch_size, N, hidden_dim)\n",
    "                dim=1,\n",
    "                index=next_indices.unsqueeze(-1).expand(-1, -1, hd)\n",
    "            )\n",
    "            # shape of top3_vectors: (batch_size, 3, hidden_dim)\n",
    "            input_t = top3_vectors.view(batch_size, 3 * hd)  # (batch_size, 3*hidden_dim)\n",
    "\n",
    "        return torch.stack(pointer_logits_list), torch.stack(chosen_indices_list)\n",
    "\n",
    "class DecoderLSTM_att(nn.Module):\n",
    "    \"\"\"\n",
    "    Decoder with causal self-attention.\n",
    "    • identical public API to DecoderLSTM\n",
    "    • after each LSTMCell step, the current hidden state attends over\n",
    "      all previous decoder hidden states (including itself)\n",
    "    \"\"\"\n",
    "    def __init__(self, hidden_dim, num_layers=1, num_heads=4, dropout=0.0, num_cold_start=0):\n",
    "        \"\"\"\n",
    "        Args\n",
    "        ----\n",
    "        hidden_dim : int   - dimension of LSTM hidden state\n",
    "        num_layers : int   - # layers in LSTMCell stack  (kept for parity)\n",
    "        num_heads  : int   - heads in MultiheadAttention\n",
    "        dropout    : float - dropout inside attention\n",
    "        \"\"\"\n",
    "        super().__init__()\n",
    "        self.hidden_dim = hidden_dim\n",
    "        self.input_size = 3 * hidden_dim\n",
    "\n",
    "        self.lstm_cell = nn.LSTMCell(self.input_size, hidden_dim)\n",
    "        self.num_cold_start = num_cold_start\n",
    "\n",
    "        # multi‑head self‑attention; batch_first=True gives shape (B, S, D)\n",
    "        self.self_attn = nn.MultiheadAttention(\n",
    "            embed_dim=hidden_dim,\n",
    "            num_heads=num_heads,\n",
    "            dropout=dropout,\n",
    "            batch_first=True\n",
    "        )\n",
    "\n",
    "        self.query_transform = nn.Linear(hidden_dim, hidden_dim)\n",
    "\n",
    "    def forward(self, encoder_outputs, hidden, cell,\n",
    "                end_node_embed, initial_input,\n",
    "                max_steps=10, teacher_indices=None):\n",
    "\n",
    "        batch_size, N, hd = encoder_outputs.shape\n",
    "        pointer_logits_list, chosen_indices_list = [], []\n",
    "        input_t = initial_input\n",
    "        saved_hiddens = []                         # ← list of *copies*\n",
    "\n",
    "        if teacher_indices is not None and teacher_indices.shape[1] < max_steps:\n",
    "            teacher_indices = F.pad(teacher_indices,\n",
    "                                    pad=(0, 0, 0, max_steps - teacher_indices.shape[1]),\n",
    "                                    value=-1).to(torch.int64)\n",
    "                                    \n",
    "\n",
    "        for _ in range(self.num_cold_start):\n",
    "            # LSTM step\n",
    "            hidden, cell = self.lstm_cell(input_t, (hidden, cell))\n",
    "\n",
    "            # causal self‑attention over past dec‑states\n",
    "            saved_hiddens.append(hidden.clone())\n",
    "            kv = torch.stack(saved_hiddens, dim=1)       # (B, s, hd)\n",
    "            q  = hidden.unsqueeze(1)                    # (B, 1, hd)\n",
    "            attn_out, _ = self.self_attn(q, kv, kv, need_weights=False)\n",
    "            hidden_ctx = 0.5 * (hidden + attn_out.squeeze(1))\n",
    "\n",
    "            # pointer distribution\n",
    "            query = self.query_transform(hidden_ctx)\n",
    "            pointer_logits = torch.sum(\n",
    "                query.unsqueeze(1) * encoder_outputs, dim=-1\n",
    "            )                                           # (B, N)\n",
    "            #pointer_logits_list.append(pointer_logits)\n",
    "\n",
    "            # choose next indices (top‑3, sorted) and build next input\n",
    "            _, pred_idx = torch.topk(pointer_logits, k=3, dim=1)\n",
    "            pred_idx, _ = torch.sort(pred_idx, dim=1)\n",
    "            #chosen_indices_list.append(pred_idx)\n",
    "\n",
    "            top3_vec = torch.gather(\n",
    "                encoder_outputs,\n",
    "                1,\n",
    "                pred_idx.unsqueeze(-1).expand(-1, -1, hd)\n",
    "            )                                           # (B, 3, hd)\n",
    "            input_t = top3_vec.reshape(batch_size, 3 * hd)\n",
    "\n",
    "\n",
    "\n",
    "        for t in range(max_steps):\n",
    "            # 1) LSTM step\n",
    "            hidden, cell = self.lstm_cell(input_t, (hidden, cell))   # (B, hd)\n",
    "\n",
    "            # 2) save a copy for causal self‑attention\n",
    "            saved_hiddens.append(hidden.clone())                     #   changed\n",
    "\n",
    "            kv = torch.stack(saved_hiddens, dim=1)                   # (B, t+1, hd)\n",
    "            q  = hidden.unsqueeze(1)                                 # (B, 1,  hd)\n",
    "            attn_out, _ = self.self_attn(q, kv, kv, need_weights=False)\n",
    "            attn_out = attn_out.squeeze(1)\n",
    "            hidden_ctx = 0.5 * (hidden + attn_out)                   # residual\n",
    "\n",
    "            # 3) pointer distribution\n",
    "            query = self.query_transform(hidden_ctx)\n",
    "            # print(\"Query shape: \", query.shape)\n",
    "            # print(\"Encoder outputs shape: \", encoder_outputs.shape)\n",
    "            # print()\n",
    "            pointer_logits = torch.sum(\n",
    "                query.unsqueeze(1) * encoder_outputs, dim=-1)\n",
    "            pointer_logits_list.append(pointer_logits)\n",
    "\n",
    "            _, top3_pred = torch.topk(pointer_logits, k=3, dim=1)\n",
    "            #sort the indices\n",
    "            top3_pred, _ = torch.sort(top3_pred, dim=1)\n",
    "\n",
    "            # 4) teacher forcing\n",
    "            if teacher_indices is None:\n",
    "                next_indices = top3_pred\n",
    "            else:\n",
    "                next_indices = teacher_indices[:, t, :].to(torch.int64)\n",
    "                next_indices = torch.where(next_indices == -1,\n",
    "                                           torch.zeros_like(next_indices),\n",
    "                                           next_indices)\n",
    "\n",
    "            chosen_indices_list.append(top3_pred)\n",
    "\n",
    "            # 5) build next input\n",
    "            top3_vec = torch.gather(\n",
    "                encoder_outputs,\n",
    "                1,\n",
    "                next_indices.unsqueeze(-1).expand(-1, -1, hd)\n",
    "            )                                       # (B, 3, hd)\n",
    "            input_t = top3_vec.reshape(batch_size, 3 * hd)\n",
    "\n",
    "        return (torch.stack(pointer_logits_list),\n",
    "                torch.stack(chosen_indices_list))\n",
    "\n",
    "class PointerNetForTriangles(nn.Module):\n",
    "    \"\"\"\n",
    "    Full Pointer Network that:\n",
    "      - Has an LSTM encoder\n",
    "      - Adds a \"virtual end-node embedding\" to the encoder outputs\n",
    "      - Has a learnable \"start token\" embedding for the decoder's first input\n",
    "      - Decodes up to max_steps, each step producing a triple of node indices\n",
    "    \"\"\"\n",
    "    def __init__(self, input_dim, hidden_dim, num_layers=1, max_steps=10, attention=False, num_cold_start=0):\n",
    "        super().__init__()\n",
    "        self.hidden_dim = hidden_dim\n",
    "        self.max_steps = max_steps\n",
    "        \n",
    "        # Encoder\n",
    "        self.encoder = EncoderLSTM(input_dim, hidden_dim, num_layers)\n",
    "        \n",
    "        # A learnable parameter to serve as \"end node\"\n",
    "        self.end_node_embed = nn.Parameter(torch.randn(1, hidden_dim))\n",
    "        \n",
    "        # A learnable \"start token\" that the decoder sees at time t=0\n",
    "        # Because we feed 3*hidden_dim each step, define it that shape:\n",
    "        self.start_token_embed = nn.Parameter(torch.randn(1, 3 * hidden_dim))\n",
    "        \n",
    "        # Decoder\n",
    "        if not attention:\n",
    "            self.decoder = DecoderLSTM(hidden_dim, num_layers)\n",
    "        else:\n",
    "            self.decoder = DecoderLSTM_att(hidden_dim, num_layers, num_cold_start=num_cold_start)\n",
    "\n",
    "    def forward(self, x, teacher_indices=None, max_steps=40):\n",
    "        \"\"\"\n",
    "        x: (batch_size, seq_len, input_dim) -- real node inputs\n",
    "        Returns:\n",
    "          pointer_logits_list: list of (batch_size, N)\n",
    "          chosen_indices_list: list of (batch_size, 3)\n",
    "        \"\"\"\n",
    "        batch_size, seq_len, _ = x.shape\n",
    "        \n",
    "        # 1) Encode\n",
    "        encoder_outputs, (h_enc, c_enc) = self.encoder(x)\n",
    "        # h_enc, c_enc: shape (num_layers, batch, hidden_dim)\n",
    "        \n",
    "        # We'll only take the top layer hidden/cell if num_layers > 1\n",
    "        h_enc = h_enc[-1]  # (batch, hidden_dim)\n",
    "        c_enc = c_enc[-1]  # (batch, hidden_dim)\n",
    "        \n",
    "        # 2) Append \"end node\" to encoder_outputs\n",
    "        end_node_tiled = self.end_node_embed.unsqueeze(0).expand(batch_size, -1, -1)\n",
    "        encoder_outputs = torch.cat([encoder_outputs, end_node_tiled], dim=1)\n",
    "        # Now encoder_outputs has shape (batch, N, hidden_dim)\n",
    "        # N = seq_len + 1  (the extra one is the end node)\n",
    "        \n",
    "        # 3) Prepare the decoder's initial input from the start token\n",
    "        start_tiled = self.start_token_embed.expand(batch_size, -1)  # (batch_size, 3*hidden_dim)\n",
    "        \n",
    "        # 4) Run the decoder\n",
    "        pointer_logits_list, chosen_indices_list = self.decoder(\n",
    "            encoder_outputs,\n",
    "            h_enc,\n",
    "            c_enc,\n",
    "            end_node_embed=self.end_node_embed,\n",
    "            initial_input=start_tiled,\n",
    "            max_steps=max(self.max_steps, max_steps), \n",
    "            teacher_indices = teacher_indices\n",
    "        )\n",
    "        \n",
    "        return pointer_logits_list, chosen_indices_list\n",
    "\n",
    "class GraphPointerNet(nn.Module):\n",
    "    '''\n",
    "    This is the funal node that consists of 1. Message Passing GNN 2. A LSTM as Pointer Network\n",
    "    '''\n",
    "    \n",
    "    def __init__(self, initial_node_dim, initial_edge_dim, embedding_dim = 32, num_layers=4, num_layers_LSTM = 1,\n",
    "                 hidden_dim=64, max_steps=40, attention=False, num_cold_start=0):\n",
    "        '''\n",
    "        Arguments:\n",
    "            initial_node_dim: the initial node dim before anything, usually 2, the 2d coordinate\n",
    "            initial_edge_dim: the initial edge dimension before anything, usually 4\n",
    "            embedding_dim: the embedding dimension for both the node and edge in MSP GNN\n",
    "            num_layers: number of layers in the message passing GNN\n",
    "            hidden_dim: the hidden dimension in the LSTM, in encoder hidden state has len hidden_dim, in decoder, \n",
    "                the hidden state has shape 3*hidden_dim and takes input of shape 3*hidden_dim\n",
    "            max_steps: number of steps made in the decoder, in this implementation, the model will always make\n",
    "                max_steps predictions even if the end of sequence token is predicted\n",
    "\n",
    "        '''\n",
    "        super().__init__()\n",
    "        self.max_steps = max_steps\n",
    "        self.MP_model = MP_GNN(initial_node_dim, initial_edge_dim, embedding_dim, num_layers)\n",
    "        self.Pointer_model = PointerNetForTriangles(embedding_dim, hidden_dim, max_steps=max_steps, \n",
    "                attention=attention, num_layers=num_layers_LSTM, num_cold_start=num_cold_start)\n",
    "        self.embedding_dim = embedding_dim\n",
    "\n",
    "    def forward(self, data_batch, teacher_indices=None, N=20, max_steps=40):\n",
    "        '''\n",
    "        Arguments:\n",
    "            data_batch: a pyg data set that contains the following attributes:\n",
    "                x: [B*N_nodes, initial_dim], the initial embeddings of all nodes in one batch\n",
    "                edge_index: [2, (k * N_nodes * B)*2], indice pairs of directed edges in the batched graph\n",
    "                edge_attr: [(k * N_nodes * B)*2, initial_edge_dim], initial edge embeddings of all the edges in the batched graph \n",
    "\n",
    "        '''\n",
    "        \n",
    "        node_embeddings, edge_embeddings = self.MP_model(data_batch)\n",
    "        #reshape the node embeddings into shape (B, N, embedding_dim)\n",
    "        node_embeddings = node_embeddings.reshape(-1, N, self.embedding_dim)\n",
    "        logits, indices = self.Pointer_model(node_embeddings, teacher_indices=teacher_indices, max_steps=max(max_steps, self.max_steps))\n",
    "\n",
    "        return logits, indices"
   ]
  },
  {
   "cell_type": "code",
   "execution_count": null,
   "id": "fc5f12a4-ae93-4c21-8d73-f7486ceea577",
   "metadata": {},
   "outputs": [],
   "source": []
  },
  {
   "cell_type": "code",
   "execution_count": 4,
   "id": "acdd78f9-a039-4057-af97-c712a6b6ffef",
   "metadata": {},
   "outputs": [
    {
     "data": {
      "application/vnd.jupyter.widget-view+json": {
       "model_id": "c7a31393b88e4c4086fde1de6ffdbfe2",
       "version_major": 2,
       "version_minor": 0
      },
      "text/plain": [
       "  0%|          | 0/200 [00:00<?, ?it/s]"
      ]
     },
     "metadata": {},
     "output_type": "display_data"
    },
    {
     "data": {
      "application/vnd.jupyter.widget-view+json": {
       "model_id": "a1a05fdd5cc540728410671457d7cd9a",
       "version_major": 2,
       "version_minor": 0
      },
      "text/plain": [
       "  0%|          | 0/302 [00:00<?, ?it/s]"
      ]
     },
     "metadata": {},
     "output_type": "display_data"
    },
    {
     "name": "stdout",
     "output_type": "stream",
     "text": [
      "Epoch 1, loss: 2.4356, iou: 0.1036\n"
     ]
    },
    {
     "data": {
      "application/vnd.jupyter.widget-view+json": {
       "model_id": "b4ade0d704f349848dd72aace886350e",
       "version_major": 2,
       "version_minor": 0
      },
      "text/plain": [
       "  0%|          | 0/302 [00:00<?, ?it/s]"
      ]
     },
     "metadata": {},
     "output_type": "display_data"
    },
    {
     "name": "stdout",
     "output_type": "stream",
     "text": [
      "Epoch 2, loss: 2.2458, iou: 0.1359\n"
     ]
    },
    {
     "data": {
      "application/vnd.jupyter.widget-view+json": {
       "model_id": "8a78dbf20f5046ba88785fa90da4fe55",
       "version_major": 2,
       "version_minor": 0
      },
      "text/plain": [
       "  0%|          | 0/302 [00:00<?, ?it/s]"
      ]
     },
     "metadata": {},
     "output_type": "display_data"
    },
    {
     "name": "stdout",
     "output_type": "stream",
     "text": [
      "Epoch 3, loss: 1.9693, iou: 0.2489\n"
     ]
    },
    {
     "data": {
      "application/vnd.jupyter.widget-view+json": {
       "model_id": "9966d9b7696d462c82ec184cc3470ba8",
       "version_major": 2,
       "version_minor": 0
      },
      "text/plain": [
       "  0%|          | 0/302 [00:00<?, ?it/s]"
      ]
     },
     "metadata": {},
     "output_type": "display_data"
    },
    {
     "name": "stdout",
     "output_type": "stream",
     "text": [
      "Epoch 4, loss: 1.9364, iou: 0.2898\n"
     ]
    },
    {
     "data": {
      "application/vnd.jupyter.widget-view+json": {
       "model_id": "84d90ff21c9340958986c2c1885d3fcf",
       "version_major": 2,
       "version_minor": 0
      },
      "text/plain": [
       "  0%|          | 0/302 [00:00<?, ?it/s]"
      ]
     },
     "metadata": {},
     "output_type": "display_data"
    },
    {
     "name": "stdout",
     "output_type": "stream",
     "text": [
      "Epoch 5, loss: 1.8334, iou: 0.3203\n"
     ]
    },
    {
     "data": {
      "application/vnd.jupyter.widget-view+json": {
       "model_id": "7cf0dbe7d73045f9bb771b7728b65e23",
       "version_major": 2,
       "version_minor": 0
      },
      "text/plain": [
       "  0%|          | 0/302 [00:00<?, ?it/s]"
      ]
     },
     "metadata": {},
     "output_type": "display_data"
    },
    {
     "name": "stdout",
     "output_type": "stream",
     "text": [
      "Epoch 6, loss: 1.7737, iou: 0.3582\n"
     ]
    },
    {
     "data": {
      "application/vnd.jupyter.widget-view+json": {
       "model_id": "159034f7cb26400a813dd83506711899",
       "version_major": 2,
       "version_minor": 0
      },
      "text/plain": [
       "  0%|          | 0/302 [00:00<?, ?it/s]"
      ]
     },
     "metadata": {},
     "output_type": "display_data"
    },
    {
     "name": "stdout",
     "output_type": "stream",
     "text": [
      "Epoch 7, loss: 1.7376, iou: 0.3779\n"
     ]
    },
    {
     "data": {
      "application/vnd.jupyter.widget-view+json": {
       "model_id": "1372ac409add41c7a3d2df4ee1554942",
       "version_major": 2,
       "version_minor": 0
      },
      "text/plain": [
       "  0%|          | 0/302 [00:00<?, ?it/s]"
      ]
     },
     "metadata": {},
     "output_type": "display_data"
    },
    {
     "name": "stdout",
     "output_type": "stream",
     "text": [
      "Epoch 8, loss: 1.6613, iou: 0.4367\n"
     ]
    },
    {
     "data": {
      "application/vnd.jupyter.widget-view+json": {
       "model_id": "1083f085690343e6afd86b7436d8fe7c",
       "version_major": 2,
       "version_minor": 0
      },
      "text/plain": [
       "  0%|          | 0/302 [00:00<?, ?it/s]"
      ]
     },
     "metadata": {},
     "output_type": "display_data"
    },
    {
     "name": "stdout",
     "output_type": "stream",
     "text": [
      "Epoch 9, loss: 1.6419, iou: 0.4589\n"
     ]
    },
    {
     "data": {
      "application/vnd.jupyter.widget-view+json": {
       "model_id": "d54e61e14be34eab89dc768d50917cb9",
       "version_major": 2,
       "version_minor": 0
      },
      "text/plain": [
       "  0%|          | 0/302 [00:00<?, ?it/s]"
      ]
     },
     "metadata": {},
     "output_type": "display_data"
    },
    {
     "name": "stdout",
     "output_type": "stream",
     "text": [
      "Epoch 10, loss: 1.6126, iou: 0.4654\n"
     ]
    },
    {
     "data": {
      "application/vnd.jupyter.widget-view+json": {
       "model_id": "c3ce45ba17f34faaaef201216ba4b76b",
       "version_major": 2,
       "version_minor": 0
      },
      "text/plain": [
       "  0%|          | 0/302 [00:00<?, ?it/s]"
      ]
     },
     "metadata": {},
     "output_type": "display_data"
    },
    {
     "name": "stdout",
     "output_type": "stream",
     "text": [
      "Epoch 11, loss: 1.5768, iou: 0.4999\n"
     ]
    },
    {
     "data": {
      "application/vnd.jupyter.widget-view+json": {
       "model_id": "de8a660756c84047bb54fd639d419d25",
       "version_major": 2,
       "version_minor": 0
      },
      "text/plain": [
       "  0%|          | 0/302 [00:00<?, ?it/s]"
      ]
     },
     "metadata": {},
     "output_type": "display_data"
    },
    {
     "name": "stdout",
     "output_type": "stream",
     "text": [
      "Epoch 12, loss: 1.5488, iou: 0.5298\n"
     ]
    },
    {
     "data": {
      "application/vnd.jupyter.widget-view+json": {
       "model_id": "b255a52aef064f8eb2f599e7fb2682a9",
       "version_major": 2,
       "version_minor": 0
      },
      "text/plain": [
       "  0%|          | 0/302 [00:00<?, ?it/s]"
      ]
     },
     "metadata": {},
     "output_type": "display_data"
    },
    {
     "name": "stdout",
     "output_type": "stream",
     "text": [
      "Epoch 13, loss: 1.5547, iou: 0.5218\n"
     ]
    },
    {
     "data": {
      "application/vnd.jupyter.widget-view+json": {
       "model_id": "bf5d58f87fdf4b6bbbcf5f5f0bba6d5e",
       "version_major": 2,
       "version_minor": 0
      },
      "text/plain": [
       "  0%|          | 0/302 [00:00<?, ?it/s]"
      ]
     },
     "metadata": {},
     "output_type": "display_data"
    },
    {
     "name": "stdout",
     "output_type": "stream",
     "text": [
      "Epoch 14, loss: 1.5344, iou: 0.5393\n"
     ]
    },
    {
     "data": {
      "application/vnd.jupyter.widget-view+json": {
       "model_id": "3907257be14a4bb0afaa65e8d276a1e3",
       "version_major": 2,
       "version_minor": 0
      },
      "text/plain": [
       "  0%|          | 0/302 [00:00<?, ?it/s]"
      ]
     },
     "metadata": {},
     "output_type": "display_data"
    },
    {
     "name": "stdout",
     "output_type": "stream",
     "text": [
      "Epoch 15, loss: 1.5474, iou: 0.5311\n"
     ]
    },
    {
     "data": {
      "application/vnd.jupyter.widget-view+json": {
       "model_id": "29a24d2d4e9c4000a80bdf3232e2363b",
       "version_major": 2,
       "version_minor": 0
      },
      "text/plain": [
       "  0%|          | 0/302 [00:00<?, ?it/s]"
      ]
     },
     "metadata": {},
     "output_type": "display_data"
    },
    {
     "name": "stdout",
     "output_type": "stream",
     "text": [
      "Epoch 16, loss: 1.5150, iou: 0.5530\n"
     ]
    },
    {
     "data": {
      "application/vnd.jupyter.widget-view+json": {
       "model_id": "0b65965c966247af9d84abad48b94145",
       "version_major": 2,
       "version_minor": 0
      },
      "text/plain": [
       "  0%|          | 0/302 [00:00<?, ?it/s]"
      ]
     },
     "metadata": {},
     "output_type": "display_data"
    },
    {
     "name": "stdout",
     "output_type": "stream",
     "text": [
      "Epoch 17, loss: 1.5075, iou: 0.5694\n"
     ]
    },
    {
     "data": {
      "application/vnd.jupyter.widget-view+json": {
       "model_id": "511d8c274b0f4f24bb6190e8318fdde8",
       "version_major": 2,
       "version_minor": 0
      },
      "text/plain": [
       "  0%|          | 0/302 [00:00<?, ?it/s]"
      ]
     },
     "metadata": {},
     "output_type": "display_data"
    },
    {
     "name": "stdout",
     "output_type": "stream",
     "text": [
      "Epoch 18, loss: 1.4937, iou: 0.5848\n"
     ]
    },
    {
     "data": {
      "application/vnd.jupyter.widget-view+json": {
       "model_id": "048b93c67c5a4f1abbf447681036209e",
       "version_major": 2,
       "version_minor": 0
      },
      "text/plain": [
       "  0%|          | 0/302 [00:00<?, ?it/s]"
      ]
     },
     "metadata": {},
     "output_type": "display_data"
    },
    {
     "name": "stdout",
     "output_type": "stream",
     "text": [
      "Epoch 19, loss: 1.4835, iou: 0.5910\n"
     ]
    },
    {
     "data": {
      "application/vnd.jupyter.widget-view+json": {
       "model_id": "f0fd22d27df44b9b924b0c734e178e96",
       "version_major": 2,
       "version_minor": 0
      },
      "text/plain": [
       "  0%|          | 0/302 [00:00<?, ?it/s]"
      ]
     },
     "metadata": {},
     "output_type": "display_data"
    },
    {
     "name": "stdout",
     "output_type": "stream",
     "text": [
      "Epoch 20, loss: 1.4841, iou: 0.5909\n"
     ]
    },
    {
     "data": {
      "application/vnd.jupyter.widget-view+json": {
       "model_id": "38f6f82b1f6f4dea8bebc06647692d41",
       "version_major": 2,
       "version_minor": 0
      },
      "text/plain": [
       "  0%|          | 0/302 [00:00<?, ?it/s]"
      ]
     },
     "metadata": {},
     "output_type": "display_data"
    },
    {
     "name": "stdout",
     "output_type": "stream",
     "text": [
      "Epoch 21, loss: 1.4652, iou: 0.5996\n"
     ]
    },
    {
     "data": {
      "application/vnd.jupyter.widget-view+json": {
       "model_id": "2f731579f5da4f9aaffe2799bcdfd677",
       "version_major": 2,
       "version_minor": 0
      },
      "text/plain": [
       "  0%|          | 0/302 [00:00<?, ?it/s]"
      ]
     },
     "metadata": {},
     "output_type": "display_data"
    },
    {
     "name": "stdout",
     "output_type": "stream",
     "text": [
      "Epoch 22, loss: 1.4509, iou: 0.6136\n"
     ]
    },
    {
     "data": {
      "application/vnd.jupyter.widget-view+json": {
       "model_id": "f3e210a531884be6a3813f3df81af0ec",
       "version_major": 2,
       "version_minor": 0
      },
      "text/plain": [
       "  0%|          | 0/302 [00:00<?, ?it/s]"
      ]
     },
     "metadata": {},
     "output_type": "display_data"
    },
    {
     "name": "stdout",
     "output_type": "stream",
     "text": [
      "Epoch 23, loss: 1.4436, iou: 0.6184\n"
     ]
    },
    {
     "data": {
      "application/vnd.jupyter.widget-view+json": {
       "model_id": "27bd8477511344a0a93f4049f4874be5",
       "version_major": 2,
       "version_minor": 0
      },
      "text/plain": [
       "  0%|          | 0/302 [00:00<?, ?it/s]"
      ]
     },
     "metadata": {},
     "output_type": "display_data"
    },
    {
     "name": "stdout",
     "output_type": "stream",
     "text": [
      "Epoch 24, loss: 1.4584, iou: 0.6085\n"
     ]
    },
    {
     "data": {
      "application/vnd.jupyter.widget-view+json": {
       "model_id": "3efeeab95bb441ca93ed23afff357599",
       "version_major": 2,
       "version_minor": 0
      },
      "text/plain": [
       "  0%|          | 0/302 [00:00<?, ?it/s]"
      ]
     },
     "metadata": {},
     "output_type": "display_data"
    },
    {
     "name": "stdout",
     "output_type": "stream",
     "text": [
      "Epoch 25, loss: 1.4416, iou: 0.6285\n"
     ]
    },
    {
     "data": {
      "application/vnd.jupyter.widget-view+json": {
       "model_id": "08832380b4a24eb9ab2c081bb83058f5",
       "version_major": 2,
       "version_minor": 0
      },
      "text/plain": [
       "  0%|          | 0/302 [00:00<?, ?it/s]"
      ]
     },
     "metadata": {},
     "output_type": "display_data"
    },
    {
     "name": "stdout",
     "output_type": "stream",
     "text": [
      "Epoch 26, loss: 1.4255, iou: 0.6374\n"
     ]
    },
    {
     "data": {
      "application/vnd.jupyter.widget-view+json": {
       "model_id": "3468649f8fc14989b874b4c6bde3de1f",
       "version_major": 2,
       "version_minor": 0
      },
      "text/plain": [
       "  0%|          | 0/302 [00:00<?, ?it/s]"
      ]
     },
     "metadata": {},
     "output_type": "display_data"
    },
    {
     "name": "stdout",
     "output_type": "stream",
     "text": [
      "Epoch 27, loss: 1.4219, iou: 0.6408\n"
     ]
    },
    {
     "data": {
      "application/vnd.jupyter.widget-view+json": {
       "model_id": "a7b844d705f8417eae41690ca52b105b",
       "version_major": 2,
       "version_minor": 0
      },
      "text/plain": [
       "  0%|          | 0/302 [00:00<?, ?it/s]"
      ]
     },
     "metadata": {},
     "output_type": "display_data"
    },
    {
     "name": "stdout",
     "output_type": "stream",
     "text": [
      "Epoch 28, loss: 1.4202, iou: 0.6424\n"
     ]
    },
    {
     "data": {
      "application/vnd.jupyter.widget-view+json": {
       "model_id": "4e2fe6c93836479294c0a0a8127077b1",
       "version_major": 2,
       "version_minor": 0
      },
      "text/plain": [
       "  0%|          | 0/302 [00:00<?, ?it/s]"
      ]
     },
     "metadata": {},
     "output_type": "display_data"
    },
    {
     "name": "stdout",
     "output_type": "stream",
     "text": [
      "Epoch 29, loss: 1.4141, iou: 0.6601\n"
     ]
    },
    {
     "data": {
      "application/vnd.jupyter.widget-view+json": {
       "model_id": "53908df1c09f4636a3a4d7c996ef0961",
       "version_major": 2,
       "version_minor": 0
      },
      "text/plain": [
       "  0%|          | 0/302 [00:00<?, ?it/s]"
      ]
     },
     "metadata": {},
     "output_type": "display_data"
    },
    {
     "name": "stdout",
     "output_type": "stream",
     "text": [
      "Epoch 30, loss: 1.4119, iou: 0.6553\n"
     ]
    },
    {
     "data": {
      "application/vnd.jupyter.widget-view+json": {
       "model_id": "5d6dd2476a18417bba1ab69cef5f6bce",
       "version_major": 2,
       "version_minor": 0
      },
      "text/plain": [
       "  0%|          | 0/302 [00:00<?, ?it/s]"
      ]
     },
     "metadata": {},
     "output_type": "display_data"
    },
    {
     "name": "stdout",
     "output_type": "stream",
     "text": [
      "Epoch 31, loss: 1.4091, iou: 0.6508\n"
     ]
    },
    {
     "data": {
      "application/vnd.jupyter.widget-view+json": {
       "model_id": "8f248daf74724542ae0aba24acc41b3a",
       "version_major": 2,
       "version_minor": 0
      },
      "text/plain": [
       "  0%|          | 0/302 [00:00<?, ?it/s]"
      ]
     },
     "metadata": {},
     "output_type": "display_data"
    },
    {
     "name": "stdout",
     "output_type": "stream",
     "text": [
      "Epoch 32, loss: 1.3981, iou: 0.6592\n"
     ]
    },
    {
     "data": {
      "application/vnd.jupyter.widget-view+json": {
       "model_id": "edcfe92a675d405cab58c2f0264c8768",
       "version_major": 2,
       "version_minor": 0
      },
      "text/plain": [
       "  0%|          | 0/302 [00:00<?, ?it/s]"
      ]
     },
     "metadata": {},
     "output_type": "display_data"
    },
    {
     "name": "stdout",
     "output_type": "stream",
     "text": [
      "Epoch 33, loss: 1.3980, iou: 0.6685\n"
     ]
    },
    {
     "data": {
      "application/vnd.jupyter.widget-view+json": {
       "model_id": "9cb8d45f93894c4f9c638e9476639b97",
       "version_major": 2,
       "version_minor": 0
      },
      "text/plain": [
       "  0%|          | 0/302 [00:00<?, ?it/s]"
      ]
     },
     "metadata": {},
     "output_type": "display_data"
    },
    {
     "name": "stdout",
     "output_type": "stream",
     "text": [
      "Epoch 34, loss: 1.3939, iou: 0.6661\n"
     ]
    },
    {
     "data": {
      "application/vnd.jupyter.widget-view+json": {
       "model_id": "dab3c2d881c64b47bbc6aec8e6f3034f",
       "version_major": 2,
       "version_minor": 0
      },
      "text/plain": [
       "  0%|          | 0/302 [00:00<?, ?it/s]"
      ]
     },
     "metadata": {},
     "output_type": "display_data"
    },
    {
     "name": "stdout",
     "output_type": "stream",
     "text": [
      "Epoch 35, loss: 1.3840, iou: 0.6825\n"
     ]
    },
    {
     "data": {
      "application/vnd.jupyter.widget-view+json": {
       "model_id": "4f963b2cbb4846dd9f23bbd137d88c1d",
       "version_major": 2,
       "version_minor": 0
      },
      "text/plain": [
       "  0%|          | 0/302 [00:00<?, ?it/s]"
      ]
     },
     "metadata": {},
     "output_type": "display_data"
    },
    {
     "name": "stdout",
     "output_type": "stream",
     "text": [
      "Epoch 36, loss: 1.3846, iou: 0.6787\n"
     ]
    },
    {
     "data": {
      "application/vnd.jupyter.widget-view+json": {
       "model_id": "1100f90ac09c4e8ca852912517bbbfe6",
       "version_major": 2,
       "version_minor": 0
      },
      "text/plain": [
       "  0%|          | 0/302 [00:00<?, ?it/s]"
      ]
     },
     "metadata": {},
     "output_type": "display_data"
    },
    {
     "name": "stdout",
     "output_type": "stream",
     "text": [
      "Epoch 37, loss: 1.3885, iou: 0.6814\n"
     ]
    },
    {
     "data": {
      "application/vnd.jupyter.widget-view+json": {
       "model_id": "62f839229eda43aa9cee2988e9fcd700",
       "version_major": 2,
       "version_minor": 0
      },
      "text/plain": [
       "  0%|          | 0/302 [00:00<?, ?it/s]"
      ]
     },
     "metadata": {},
     "output_type": "display_data"
    },
    {
     "name": "stdout",
     "output_type": "stream",
     "text": [
      "Epoch 38, loss: 1.3741, iou: 0.6816\n"
     ]
    },
    {
     "data": {
      "application/vnd.jupyter.widget-view+json": {
       "model_id": "fbde797a0c62431693f068b14e1d7aad",
       "version_major": 2,
       "version_minor": 0
      },
      "text/plain": [
       "  0%|          | 0/302 [00:00<?, ?it/s]"
      ]
     },
     "metadata": {},
     "output_type": "display_data"
    },
    {
     "name": "stdout",
     "output_type": "stream",
     "text": [
      "Epoch 39, loss: 1.3791, iou: 0.6978\n"
     ]
    },
    {
     "data": {
      "application/vnd.jupyter.widget-view+json": {
       "model_id": "9344c04b5089436592790a1cb725ee64",
       "version_major": 2,
       "version_minor": 0
      },
      "text/plain": [
       "  0%|          | 0/302 [00:00<?, ?it/s]"
      ]
     },
     "metadata": {},
     "output_type": "display_data"
    },
    {
     "name": "stdout",
     "output_type": "stream",
     "text": [
      "Epoch 40, loss: 1.3697, iou: 0.6965\n"
     ]
    },
    {
     "data": {
      "application/vnd.jupyter.widget-view+json": {
       "model_id": "eda623c744dd4fbcad3af3762ade411d",
       "version_major": 2,
       "version_minor": 0
      },
      "text/plain": [
       "  0%|          | 0/302 [00:00<?, ?it/s]"
      ]
     },
     "metadata": {},
     "output_type": "display_data"
    },
    {
     "name": "stdout",
     "output_type": "stream",
     "text": [
      "Epoch 41, loss: 1.3687, iou: 0.7033\n"
     ]
    },
    {
     "data": {
      "application/vnd.jupyter.widget-view+json": {
       "model_id": "4308200bd1ed4723996ae41144c3cf49",
       "version_major": 2,
       "version_minor": 0
      },
      "text/plain": [
       "  0%|          | 0/302 [00:00<?, ?it/s]"
      ]
     },
     "metadata": {},
     "output_type": "display_data"
    },
    {
     "name": "stdout",
     "output_type": "stream",
     "text": [
      "Epoch 42, loss: 1.3671, iou: 0.7094\n"
     ]
    },
    {
     "data": {
      "application/vnd.jupyter.widget-view+json": {
       "model_id": "3ae204a94e7148a78bbc37148fab878f",
       "version_major": 2,
       "version_minor": 0
      },
      "text/plain": [
       "  0%|          | 0/302 [00:00<?, ?it/s]"
      ]
     },
     "metadata": {},
     "output_type": "display_data"
    },
    {
     "name": "stdout",
     "output_type": "stream",
     "text": [
      "Epoch 43, loss: 1.3651, iou: 0.7029\n"
     ]
    },
    {
     "data": {
      "application/vnd.jupyter.widget-view+json": {
       "model_id": "068eb39e2f1e44619b1fc6bd1bcf16fa",
       "version_major": 2,
       "version_minor": 0
      },
      "text/plain": [
       "  0%|          | 0/302 [00:00<?, ?it/s]"
      ]
     },
     "metadata": {},
     "output_type": "display_data"
    },
    {
     "name": "stdout",
     "output_type": "stream",
     "text": [
      "Epoch 44, loss: 1.3560, iou: 0.7104\n"
     ]
    },
    {
     "data": {
      "application/vnd.jupyter.widget-view+json": {
       "model_id": "1659570d18484445b1cf7dded3160d42",
       "version_major": 2,
       "version_minor": 0
      },
      "text/plain": [
       "  0%|          | 0/302 [00:00<?, ?it/s]"
      ]
     },
     "metadata": {},
     "output_type": "display_data"
    },
    {
     "name": "stdout",
     "output_type": "stream",
     "text": [
      "Epoch 45, loss: 1.3592, iou: 0.7041\n"
     ]
    },
    {
     "data": {
      "application/vnd.jupyter.widget-view+json": {
       "model_id": "98b95a97012549a1944beafb92e0a3b9",
       "version_major": 2,
       "version_minor": 0
      },
      "text/plain": [
       "  0%|          | 0/302 [00:00<?, ?it/s]"
      ]
     },
     "metadata": {},
     "output_type": "display_data"
    },
    {
     "name": "stdout",
     "output_type": "stream",
     "text": [
      "Epoch 46, loss: 1.3534, iou: 0.7211\n"
     ]
    },
    {
     "data": {
      "application/vnd.jupyter.widget-view+json": {
       "model_id": "8960c049ede743f98c885f47469c6800",
       "version_major": 2,
       "version_minor": 0
      },
      "text/plain": [
       "  0%|          | 0/302 [00:00<?, ?it/s]"
      ]
     },
     "metadata": {},
     "output_type": "display_data"
    },
    {
     "name": "stdout",
     "output_type": "stream",
     "text": [
      "Epoch 47, loss: 1.3542, iou: 0.7208\n"
     ]
    },
    {
     "data": {
      "application/vnd.jupyter.widget-view+json": {
       "model_id": "f23c64af7226433b85685c667123fcac",
       "version_major": 2,
       "version_minor": 0
      },
      "text/plain": [
       "  0%|          | 0/302 [00:00<?, ?it/s]"
      ]
     },
     "metadata": {},
     "output_type": "display_data"
    },
    {
     "name": "stdout",
     "output_type": "stream",
     "text": [
      "Epoch 48, loss: 1.3507, iou: 0.7145\n"
     ]
    },
    {
     "data": {
      "application/vnd.jupyter.widget-view+json": {
       "model_id": "1b1f4654a5f0471ab9e64c637329fc54",
       "version_major": 2,
       "version_minor": 0
      },
      "text/plain": [
       "  0%|          | 0/302 [00:00<?, ?it/s]"
      ]
     },
     "metadata": {},
     "output_type": "display_data"
    },
    {
     "name": "stdout",
     "output_type": "stream",
     "text": [
      "Epoch 49, loss: 1.3464, iou: 0.7199\n"
     ]
    },
    {
     "data": {
      "application/vnd.jupyter.widget-view+json": {
       "model_id": "45e26b86d8c044c3a32062bd1af0774f",
       "version_major": 2,
       "version_minor": 0
      },
      "text/plain": [
       "  0%|          | 0/302 [00:00<?, ?it/s]"
      ]
     },
     "metadata": {},
     "output_type": "display_data"
    },
    {
     "name": "stdout",
     "output_type": "stream",
     "text": [
      "Epoch 50, loss: 1.3569, iou: 0.7106\n"
     ]
    },
    {
     "data": {
      "application/vnd.jupyter.widget-view+json": {
       "model_id": "5eaeb03ec2b543c6a8fa1d0efd7758c3",
       "version_major": 2,
       "version_minor": 0
      },
      "text/plain": [
       "  0%|          | 0/302 [00:00<?, ?it/s]"
      ]
     },
     "metadata": {},
     "output_type": "display_data"
    },
    {
     "name": "stdout",
     "output_type": "stream",
     "text": [
      "Epoch 51, loss: 1.3568, iou: 0.7137\n"
     ]
    },
    {
     "data": {
      "application/vnd.jupyter.widget-view+json": {
       "model_id": "9f1e147ecc17492799205f39b28fd0a5",
       "version_major": 2,
       "version_minor": 0
      },
      "text/plain": [
       "  0%|          | 0/302 [00:00<?, ?it/s]"
      ]
     },
     "metadata": {},
     "output_type": "display_data"
    },
    {
     "name": "stdout",
     "output_type": "stream",
     "text": [
      "Epoch 52, loss: 1.3407, iou: 0.7244\n"
     ]
    },
    {
     "data": {
      "application/vnd.jupyter.widget-view+json": {
       "model_id": "42070419a3c444f5b6f26b9ed3c08603",
       "version_major": 2,
       "version_minor": 0
      },
      "text/plain": [
       "  0%|          | 0/302 [00:00<?, ?it/s]"
      ]
     },
     "metadata": {},
     "output_type": "display_data"
    },
    {
     "name": "stdout",
     "output_type": "stream",
     "text": [
      "Epoch 53, loss: 1.3498, iou: 0.7189\n"
     ]
    },
    {
     "data": {
      "application/vnd.jupyter.widget-view+json": {
       "model_id": "4af7f6898d484e2d940e6755997ee762",
       "version_major": 2,
       "version_minor": 0
      },
      "text/plain": [
       "  0%|          | 0/302 [00:00<?, ?it/s]"
      ]
     },
     "metadata": {},
     "output_type": "display_data"
    },
    {
     "name": "stdout",
     "output_type": "stream",
     "text": [
      "Epoch 54, loss: 1.3454, iou: 0.7326\n"
     ]
    },
    {
     "data": {
      "application/vnd.jupyter.widget-view+json": {
       "model_id": "7ded56ef333f46cd9130021e3595ad3e",
       "version_major": 2,
       "version_minor": 0
      },
      "text/plain": [
       "  0%|          | 0/302 [00:00<?, ?it/s]"
      ]
     },
     "metadata": {},
     "output_type": "display_data"
    },
    {
     "name": "stdout",
     "output_type": "stream",
     "text": [
      "Epoch 55, loss: 1.3434, iou: 0.7211\n"
     ]
    },
    {
     "data": {
      "application/vnd.jupyter.widget-view+json": {
       "model_id": "a733ddea5bfe4039a6eb89fa36a3aa01",
       "version_major": 2,
       "version_minor": 0
      },
      "text/plain": [
       "  0%|          | 0/302 [00:00<?, ?it/s]"
      ]
     },
     "metadata": {},
     "output_type": "display_data"
    },
    {
     "name": "stdout",
     "output_type": "stream",
     "text": [
      "Epoch 56, loss: 1.3318, iou: 0.7452\n"
     ]
    },
    {
     "data": {
      "application/vnd.jupyter.widget-view+json": {
       "model_id": "18ed6bc73d7f4c3f8a4fea6dbe3a4cec",
       "version_major": 2,
       "version_minor": 0
      },
      "text/plain": [
       "  0%|          | 0/302 [00:00<?, ?it/s]"
      ]
     },
     "metadata": {},
     "output_type": "display_data"
    },
    {
     "name": "stdout",
     "output_type": "stream",
     "text": [
      "Epoch 57, loss: 1.3479, iou: 0.7187\n"
     ]
    },
    {
     "data": {
      "application/vnd.jupyter.widget-view+json": {
       "model_id": "16074a5aff4b4e128e5fb09ffc8a1d5f",
       "version_major": 2,
       "version_minor": 0
      },
      "text/plain": [
       "  0%|          | 0/302 [00:00<?, ?it/s]"
      ]
     },
     "metadata": {},
     "output_type": "display_data"
    },
    {
     "name": "stdout",
     "output_type": "stream",
     "text": [
      "Epoch 58, loss: 1.3447, iou: 0.7276\n"
     ]
    },
    {
     "data": {
      "application/vnd.jupyter.widget-view+json": {
       "model_id": "32640e74c0f245e48605016a5ae4a928",
       "version_major": 2,
       "version_minor": 0
      },
      "text/plain": [
       "  0%|          | 0/302 [00:00<?, ?it/s]"
      ]
     },
     "metadata": {},
     "output_type": "display_data"
    },
    {
     "name": "stdout",
     "output_type": "stream",
     "text": [
      "Epoch 59, loss: 1.3327, iou: 0.7271\n"
     ]
    },
    {
     "data": {
      "application/vnd.jupyter.widget-view+json": {
       "model_id": "effb8f3f13f94692b92915559e336158",
       "version_major": 2,
       "version_minor": 0
      },
      "text/plain": [
       "  0%|          | 0/302 [00:00<?, ?it/s]"
      ]
     },
     "metadata": {},
     "output_type": "display_data"
    },
    {
     "name": "stdout",
     "output_type": "stream",
     "text": [
      "Epoch 60, loss: 1.3212, iou: 0.7458\n"
     ]
    },
    {
     "data": {
      "application/vnd.jupyter.widget-view+json": {
       "model_id": "e4c0daa3f17c4373b331aef197590e2c",
       "version_major": 2,
       "version_minor": 0
      },
      "text/plain": [
       "  0%|          | 0/302 [00:00<?, ?it/s]"
      ]
     },
     "metadata": {},
     "output_type": "display_data"
    },
    {
     "name": "stdout",
     "output_type": "stream",
     "text": [
      "Epoch 61, loss: 1.3306, iou: 0.7303\n"
     ]
    },
    {
     "data": {
      "application/vnd.jupyter.widget-view+json": {
       "model_id": "80ced2b73df44dc3ad8add06fee34782",
       "version_major": 2,
       "version_minor": 0
      },
      "text/plain": [
       "  0%|          | 0/302 [00:00<?, ?it/s]"
      ]
     },
     "metadata": {},
     "output_type": "display_data"
    },
    {
     "name": "stdout",
     "output_type": "stream",
     "text": [
      "Epoch 62, loss: 1.3385, iou: 0.7288\n"
     ]
    },
    {
     "data": {
      "application/vnd.jupyter.widget-view+json": {
       "model_id": "3f786f9cc61045268c5a35f75f73d917",
       "version_major": 2,
       "version_minor": 0
      },
      "text/plain": [
       "  0%|          | 0/302 [00:00<?, ?it/s]"
      ]
     },
     "metadata": {},
     "output_type": "display_data"
    },
    {
     "name": "stdout",
     "output_type": "stream",
     "text": [
      "Epoch 63, loss: 1.3302, iou: 0.7440\n"
     ]
    },
    {
     "data": {
      "application/vnd.jupyter.widget-view+json": {
       "model_id": "c117e5f00dc44ac781f465bc85fa75a7",
       "version_major": 2,
       "version_minor": 0
      },
      "text/plain": [
       "  0%|          | 0/302 [00:00<?, ?it/s]"
      ]
     },
     "metadata": {},
     "output_type": "display_data"
    },
    {
     "name": "stdout",
     "output_type": "stream",
     "text": [
      "Epoch 64, loss: 1.3291, iou: 0.7442\n"
     ]
    },
    {
     "data": {
      "application/vnd.jupyter.widget-view+json": {
       "model_id": "d6a8fb0975cf40ab8031dbc0f1565322",
       "version_major": 2,
       "version_minor": 0
      },
      "text/plain": [
       "  0%|          | 0/302 [00:00<?, ?it/s]"
      ]
     },
     "metadata": {},
     "output_type": "display_data"
    },
    {
     "name": "stdout",
     "output_type": "stream",
     "text": [
      "Epoch 65, loss: 1.3365, iou: 0.7349\n"
     ]
    },
    {
     "data": {
      "application/vnd.jupyter.widget-view+json": {
       "model_id": "b694548b32fb4ccf85f0e5a4d2da0e8c",
       "version_major": 2,
       "version_minor": 0
      },
      "text/plain": [
       "  0%|          | 0/302 [00:00<?, ?it/s]"
      ]
     },
     "metadata": {},
     "output_type": "display_data"
    },
    {
     "name": "stdout",
     "output_type": "stream",
     "text": [
      "Epoch 66, loss: 1.3212, iou: 0.7319\n"
     ]
    },
    {
     "data": {
      "application/vnd.jupyter.widget-view+json": {
       "model_id": "38a8a930e98642a1ba3a01b8f87d21ce",
       "version_major": 2,
       "version_minor": 0
      },
      "text/plain": [
       "  0%|          | 0/302 [00:00<?, ?it/s]"
      ]
     },
     "metadata": {},
     "output_type": "display_data"
    },
    {
     "name": "stdout",
     "output_type": "stream",
     "text": [
      "Epoch 67, loss: 1.3340, iou: 0.7292\n"
     ]
    },
    {
     "data": {
      "application/vnd.jupyter.widget-view+json": {
       "model_id": "c746ba3b7f304076914214ee8f9e6475",
       "version_major": 2,
       "version_minor": 0
      },
      "text/plain": [
       "  0%|          | 0/302 [00:00<?, ?it/s]"
      ]
     },
     "metadata": {},
     "output_type": "display_data"
    },
    {
     "name": "stdout",
     "output_type": "stream",
     "text": [
      "Epoch 68, loss: 1.3185, iou: 0.7492\n"
     ]
    },
    {
     "data": {
      "application/vnd.jupyter.widget-view+json": {
       "model_id": "705d6be100a448d483b4fd5a7fdfaf57",
       "version_major": 2,
       "version_minor": 0
      },
      "text/plain": [
       "  0%|          | 0/302 [00:00<?, ?it/s]"
      ]
     },
     "metadata": {},
     "output_type": "display_data"
    },
    {
     "name": "stdout",
     "output_type": "stream",
     "text": [
      "Epoch 69, loss: 1.3233, iou: 0.7479\n"
     ]
    },
    {
     "data": {
      "application/vnd.jupyter.widget-view+json": {
       "model_id": "e521dca1507b49ed89cc48d871b52383",
       "version_major": 2,
       "version_minor": 0
      },
      "text/plain": [
       "  0%|          | 0/302 [00:00<?, ?it/s]"
      ]
     },
     "metadata": {},
     "output_type": "display_data"
    },
    {
     "name": "stdout",
     "output_type": "stream",
     "text": [
      "Epoch 70, loss: 1.3260, iou: 0.7465\n"
     ]
    },
    {
     "data": {
      "application/vnd.jupyter.widget-view+json": {
       "model_id": "3a55c3ee543548448d872ad39e799b0f",
       "version_major": 2,
       "version_minor": 0
      },
      "text/plain": [
       "  0%|          | 0/302 [00:00<?, ?it/s]"
      ]
     },
     "metadata": {},
     "output_type": "display_data"
    },
    {
     "name": "stdout",
     "output_type": "stream",
     "text": [
      "Epoch 71, loss: 1.3140, iou: 0.7526\n"
     ]
    },
    {
     "data": {
      "application/vnd.jupyter.widget-view+json": {
       "model_id": "9ef171055cd8474ca420c37e18923013",
       "version_major": 2,
       "version_minor": 0
      },
      "text/plain": [
       "  0%|          | 0/302 [00:00<?, ?it/s]"
      ]
     },
     "metadata": {},
     "output_type": "display_data"
    },
    {
     "name": "stdout",
     "output_type": "stream",
     "text": [
      "Epoch 72, loss: 1.3266, iou: 0.7472\n"
     ]
    },
    {
     "data": {
      "application/vnd.jupyter.widget-view+json": {
       "model_id": "61f2f2c737834a5d899978a84b1ffee8",
       "version_major": 2,
       "version_minor": 0
      },
      "text/plain": [
       "  0%|          | 0/302 [00:00<?, ?it/s]"
      ]
     },
     "metadata": {},
     "output_type": "display_data"
    },
    {
     "name": "stdout",
     "output_type": "stream",
     "text": [
      "Epoch 73, loss: 1.3158, iou: 0.7519\n"
     ]
    },
    {
     "data": {
      "application/vnd.jupyter.widget-view+json": {
       "model_id": "eb77b9345b8443d2ad51306652242084",
       "version_major": 2,
       "version_minor": 0
      },
      "text/plain": [
       "  0%|          | 0/302 [00:00<?, ?it/s]"
      ]
     },
     "metadata": {},
     "output_type": "display_data"
    },
    {
     "name": "stdout",
     "output_type": "stream",
     "text": [
      "Epoch 74, loss: 1.3119, iou: 0.7609\n"
     ]
    },
    {
     "data": {
      "application/vnd.jupyter.widget-view+json": {
       "model_id": "6438858d09ed4df5ace85adc33f47529",
       "version_major": 2,
       "version_minor": 0
      },
      "text/plain": [
       "  0%|          | 0/302 [00:00<?, ?it/s]"
      ]
     },
     "metadata": {},
     "output_type": "display_data"
    },
    {
     "name": "stdout",
     "output_type": "stream",
     "text": [
      "Epoch 75, loss: 1.3080, iou: 0.7608\n"
     ]
    },
    {
     "data": {
      "application/vnd.jupyter.widget-view+json": {
       "model_id": "8c4f244e66f0491c8108febcf2240d3a",
       "version_major": 2,
       "version_minor": 0
      },
      "text/plain": [
       "  0%|          | 0/302 [00:00<?, ?it/s]"
      ]
     },
     "metadata": {},
     "output_type": "display_data"
    },
    {
     "name": "stdout",
     "output_type": "stream",
     "text": [
      "Epoch 76, loss: 1.3115, iou: 0.7619\n"
     ]
    },
    {
     "data": {
      "application/vnd.jupyter.widget-view+json": {
       "model_id": "665c8008f6294ce7a1f78d3160237787",
       "version_major": 2,
       "version_minor": 0
      },
      "text/plain": [
       "  0%|          | 0/302 [00:00<?, ?it/s]"
      ]
     },
     "metadata": {},
     "output_type": "display_data"
    },
    {
     "name": "stdout",
     "output_type": "stream",
     "text": [
      "Epoch 77, loss: 1.3050, iou: 0.7686\n"
     ]
    },
    {
     "data": {
      "application/vnd.jupyter.widget-view+json": {
       "model_id": "05f832692e3141148a7664072f2983b9",
       "version_major": 2,
       "version_minor": 0
      },
      "text/plain": [
       "  0%|          | 0/302 [00:00<?, ?it/s]"
      ]
     },
     "metadata": {},
     "output_type": "display_data"
    },
    {
     "name": "stdout",
     "output_type": "stream",
     "text": [
      "Epoch 78, loss: 1.3094, iou: 0.7643\n"
     ]
    },
    {
     "data": {
      "application/vnd.jupyter.widget-view+json": {
       "model_id": "dbcdf6b244514c67a7791315ba0f1e83",
       "version_major": 2,
       "version_minor": 0
      },
      "text/plain": [
       "  0%|          | 0/302 [00:00<?, ?it/s]"
      ]
     },
     "metadata": {},
     "output_type": "display_data"
    },
    {
     "name": "stdout",
     "output_type": "stream",
     "text": [
      "Epoch 79, loss: 1.3016, iou: 0.7678\n"
     ]
    },
    {
     "data": {
      "application/vnd.jupyter.widget-view+json": {
       "model_id": "557bc2c90f3848c8a15ee8e6a1a5c7cf",
       "version_major": 2,
       "version_minor": 0
      },
      "text/plain": [
       "  0%|          | 0/302 [00:00<?, ?it/s]"
      ]
     },
     "metadata": {},
     "output_type": "display_data"
    },
    {
     "name": "stdout",
     "output_type": "stream",
     "text": [
      "Epoch 80, loss: 1.3002, iou: 0.7678\n"
     ]
    },
    {
     "data": {
      "application/vnd.jupyter.widget-view+json": {
       "model_id": "7a5ec6a17f614777a67b52d6e433d58f",
       "version_major": 2,
       "version_minor": 0
      },
      "text/plain": [
       "  0%|          | 0/302 [00:00<?, ?it/s]"
      ]
     },
     "metadata": {},
     "output_type": "display_data"
    },
    {
     "name": "stdout",
     "output_type": "stream",
     "text": [
      "Epoch 81, loss: 1.3040, iou: 0.7702\n"
     ]
    },
    {
     "data": {
      "application/vnd.jupyter.widget-view+json": {
       "model_id": "89ed9936fbd540888408e6f70e9c9e95",
       "version_major": 2,
       "version_minor": 0
      },
      "text/plain": [
       "  0%|          | 0/302 [00:00<?, ?it/s]"
      ]
     },
     "metadata": {},
     "output_type": "display_data"
    },
    {
     "name": "stdout",
     "output_type": "stream",
     "text": [
      "Epoch 82, loss: 1.3114, iou: 0.7567\n"
     ]
    },
    {
     "data": {
      "application/vnd.jupyter.widget-view+json": {
       "model_id": "f7e6fd390fd14820aaa3f8d789a2d2db",
       "version_major": 2,
       "version_minor": 0
      },
      "text/plain": [
       "  0%|          | 0/302 [00:00<?, ?it/s]"
      ]
     },
     "metadata": {},
     "output_type": "display_data"
    },
    {
     "name": "stdout",
     "output_type": "stream",
     "text": [
      "Epoch 83, loss: 1.3058, iou: 0.7661\n"
     ]
    },
    {
     "data": {
      "application/vnd.jupyter.widget-view+json": {
       "model_id": "c26b9da9bc07412fb72eca12cc012246",
       "version_major": 2,
       "version_minor": 0
      },
      "text/plain": [
       "  0%|          | 0/302 [00:00<?, ?it/s]"
      ]
     },
     "metadata": {},
     "output_type": "display_data"
    },
    {
     "name": "stdout",
     "output_type": "stream",
     "text": [
      "Epoch 84, loss: 1.3142, iou: 0.7624\n"
     ]
    },
    {
     "data": {
      "application/vnd.jupyter.widget-view+json": {
       "model_id": "c18a59b3f80d4f1fa3dde7624dd5787e",
       "version_major": 2,
       "version_minor": 0
      },
      "text/plain": [
       "  0%|          | 0/302 [00:00<?, ?it/s]"
      ]
     },
     "metadata": {},
     "output_type": "display_data"
    },
    {
     "name": "stdout",
     "output_type": "stream",
     "text": [
      "Epoch 85, loss: 1.2981, iou: 0.7722\n"
     ]
    },
    {
     "data": {
      "application/vnd.jupyter.widget-view+json": {
       "model_id": "1b314ba4a261471994354aaa07bf58c3",
       "version_major": 2,
       "version_minor": 0
      },
      "text/plain": [
       "  0%|          | 0/302 [00:00<?, ?it/s]"
      ]
     },
     "metadata": {},
     "output_type": "display_data"
    },
    {
     "name": "stdout",
     "output_type": "stream",
     "text": [
      "Epoch 86, loss: 1.3098, iou: 0.7563\n"
     ]
    },
    {
     "data": {
      "application/vnd.jupyter.widget-view+json": {
       "model_id": "54eaf6dac25b4c4c82d965e0b519d31f",
       "version_major": 2,
       "version_minor": 0
      },
      "text/plain": [
       "  0%|          | 0/302 [00:00<?, ?it/s]"
      ]
     },
     "metadata": {},
     "output_type": "display_data"
    },
    {
     "name": "stdout",
     "output_type": "stream",
     "text": [
      "Epoch 87, loss: 1.2974, iou: 0.7753\n"
     ]
    },
    {
     "data": {
      "application/vnd.jupyter.widget-view+json": {
       "model_id": "8a44b30094264e5ba244d1ca8a7622f9",
       "version_major": 2,
       "version_minor": 0
      },
      "text/plain": [
       "  0%|          | 0/302 [00:00<?, ?it/s]"
      ]
     },
     "metadata": {},
     "output_type": "display_data"
    },
    {
     "name": "stdout",
     "output_type": "stream",
     "text": [
      "Epoch 88, loss: 1.3007, iou: 0.7760\n"
     ]
    },
    {
     "data": {
      "application/vnd.jupyter.widget-view+json": {
       "model_id": "a98d44226ea441a88402bce4bd7249c4",
       "version_major": 2,
       "version_minor": 0
      },
      "text/plain": [
       "  0%|          | 0/302 [00:00<?, ?it/s]"
      ]
     },
     "metadata": {},
     "output_type": "display_data"
    },
    {
     "name": "stdout",
     "output_type": "stream",
     "text": [
      "Epoch 89, loss: 1.3022, iou: 0.7769\n"
     ]
    },
    {
     "data": {
      "application/vnd.jupyter.widget-view+json": {
       "model_id": "57ac75e1fed846139cb3b108eca332f6",
       "version_major": 2,
       "version_minor": 0
      },
      "text/plain": [
       "  0%|          | 0/302 [00:00<?, ?it/s]"
      ]
     },
     "metadata": {},
     "output_type": "display_data"
    },
    {
     "name": "stdout",
     "output_type": "stream",
     "text": [
      "Epoch 90, loss: 1.2984, iou: 0.7662\n"
     ]
    },
    {
     "data": {
      "application/vnd.jupyter.widget-view+json": {
       "model_id": "9894024ceb3a4ba695796b6207e172e7",
       "version_major": 2,
       "version_minor": 0
      },
      "text/plain": [
       "  0%|          | 0/302 [00:00<?, ?it/s]"
      ]
     },
     "metadata": {},
     "output_type": "display_data"
    },
    {
     "name": "stdout",
     "output_type": "stream",
     "text": [
      "Epoch 91, loss: 1.2999, iou: 0.7757\n"
     ]
    },
    {
     "data": {
      "application/vnd.jupyter.widget-view+json": {
       "model_id": "c29eb0561e194600b56fe8f7d6c91d07",
       "version_major": 2,
       "version_minor": 0
      },
      "text/plain": [
       "  0%|          | 0/302 [00:00<?, ?it/s]"
      ]
     },
     "metadata": {},
     "output_type": "display_data"
    },
    {
     "name": "stdout",
     "output_type": "stream",
     "text": [
      "Epoch 92, loss: 1.2975, iou: 0.7786\n"
     ]
    },
    {
     "data": {
      "application/vnd.jupyter.widget-view+json": {
       "model_id": "648a09c47cd44efebab0d6b1ccad128c",
       "version_major": 2,
       "version_minor": 0
      },
      "text/plain": [
       "  0%|          | 0/302 [00:00<?, ?it/s]"
      ]
     },
     "metadata": {},
     "output_type": "display_data"
    },
    {
     "name": "stdout",
     "output_type": "stream",
     "text": [
      "Epoch 93, loss: 1.2930, iou: 0.7700\n"
     ]
    },
    {
     "data": {
      "application/vnd.jupyter.widget-view+json": {
       "model_id": "082e80edc64c44a6b8b7bf033e60af75",
       "version_major": 2,
       "version_minor": 0
      },
      "text/plain": [
       "  0%|          | 0/302 [00:00<?, ?it/s]"
      ]
     },
     "metadata": {},
     "output_type": "display_data"
    },
    {
     "name": "stdout",
     "output_type": "stream",
     "text": [
      "Epoch 94, loss: 1.2943, iou: 0.7783\n"
     ]
    },
    {
     "data": {
      "application/vnd.jupyter.widget-view+json": {
       "model_id": "4d188d856bf14772ae88ac01f9576880",
       "version_major": 2,
       "version_minor": 0
      },
      "text/plain": [
       "  0%|          | 0/302 [00:00<?, ?it/s]"
      ]
     },
     "metadata": {},
     "output_type": "display_data"
    },
    {
     "name": "stdout",
     "output_type": "stream",
     "text": [
      "Epoch 95, loss: 1.2876, iou: 0.7835\n"
     ]
    },
    {
     "data": {
      "application/vnd.jupyter.widget-view+json": {
       "model_id": "3d24af304ffd4d0995682d593f40f7c8",
       "version_major": 2,
       "version_minor": 0
      },
      "text/plain": [
       "  0%|          | 0/302 [00:00<?, ?it/s]"
      ]
     },
     "metadata": {},
     "output_type": "display_data"
    },
    {
     "name": "stdout",
     "output_type": "stream",
     "text": [
      "Epoch 96, loss: 1.2946, iou: 0.7798\n"
     ]
    },
    {
     "data": {
      "application/vnd.jupyter.widget-view+json": {
       "model_id": "1642df451da14698b64f0522d36aa532",
       "version_major": 2,
       "version_minor": 0
      },
      "text/plain": [
       "  0%|          | 0/302 [00:00<?, ?it/s]"
      ]
     },
     "metadata": {},
     "output_type": "display_data"
    },
    {
     "name": "stdout",
     "output_type": "stream",
     "text": [
      "Epoch 97, loss: 1.2894, iou: 0.7824\n"
     ]
    },
    {
     "data": {
      "application/vnd.jupyter.widget-view+json": {
       "model_id": "2620bd6dde8b4f55b0b41e72c5d281e5",
       "version_major": 2,
       "version_minor": 0
      },
      "text/plain": [
       "  0%|          | 0/302 [00:00<?, ?it/s]"
      ]
     },
     "metadata": {},
     "output_type": "display_data"
    },
    {
     "name": "stdout",
     "output_type": "stream",
     "text": [
      "Epoch 98, loss: 1.2915, iou: 0.7813\n"
     ]
    },
    {
     "data": {
      "application/vnd.jupyter.widget-view+json": {
       "model_id": "6f0bea6bd9f646a08cd84eafd129dd05",
       "version_major": 2,
       "version_minor": 0
      },
      "text/plain": [
       "  0%|          | 0/302 [00:00<?, ?it/s]"
      ]
     },
     "metadata": {},
     "output_type": "display_data"
    },
    {
     "name": "stdout",
     "output_type": "stream",
     "text": [
      "Epoch 99, loss: 1.2872, iou: 0.7901\n"
     ]
    },
    {
     "data": {
      "application/vnd.jupyter.widget-view+json": {
       "model_id": "60fec57f3eaa4072b34a89c3050c189b",
       "version_major": 2,
       "version_minor": 0
      },
      "text/plain": [
       "  0%|          | 0/302 [00:00<?, ?it/s]"
      ]
     },
     "metadata": {},
     "output_type": "display_data"
    },
    {
     "name": "stdout",
     "output_type": "stream",
     "text": [
      "Epoch 100, loss: 1.2899, iou: 0.7836\n"
     ]
    },
    {
     "data": {
      "application/vnd.jupyter.widget-view+json": {
       "model_id": "65ceb0e46f1543c4b6c00522c295c980",
       "version_major": 2,
       "version_minor": 0
      },
      "text/plain": [
       "  0%|          | 0/302 [00:00<?, ?it/s]"
      ]
     },
     "metadata": {},
     "output_type": "display_data"
    },
    {
     "name": "stdout",
     "output_type": "stream",
     "text": [
      "Epoch 101, loss: 1.3004, iou: 0.7680\n"
     ]
    },
    {
     "data": {
      "application/vnd.jupyter.widget-view+json": {
       "model_id": "1bbe62408d59408dbfde89a54812c126",
       "version_major": 2,
       "version_minor": 0
      },
      "text/plain": [
       "  0%|          | 0/302 [00:00<?, ?it/s]"
      ]
     },
     "metadata": {},
     "output_type": "display_data"
    },
    {
     "name": "stdout",
     "output_type": "stream",
     "text": [
      "Epoch 102, loss: 1.3006, iou: 0.7732\n"
     ]
    },
    {
     "data": {
      "application/vnd.jupyter.widget-view+json": {
       "model_id": "fadfd127df58459fbe7b4d45224bc52a",
       "version_major": 2,
       "version_minor": 0
      },
      "text/plain": [
       "  0%|          | 0/302 [00:00<?, ?it/s]"
      ]
     },
     "metadata": {},
     "output_type": "display_data"
    },
    {
     "name": "stdout",
     "output_type": "stream",
     "text": [
      "Epoch 103, loss: 1.2823, iou: 0.7885\n"
     ]
    },
    {
     "data": {
      "application/vnd.jupyter.widget-view+json": {
       "model_id": "b188a07a1e0c46ed8273038b9d215014",
       "version_major": 2,
       "version_minor": 0
      },
      "text/plain": [
       "  0%|          | 0/302 [00:00<?, ?it/s]"
      ]
     },
     "metadata": {},
     "output_type": "display_data"
    },
    {
     "name": "stdout",
     "output_type": "stream",
     "text": [
      "Epoch 104, loss: 1.2783, iou: 0.7967\n"
     ]
    },
    {
     "data": {
      "application/vnd.jupyter.widget-view+json": {
       "model_id": "47cd2356510044fa936b4d4c4bc12f91",
       "version_major": 2,
       "version_minor": 0
      },
      "text/plain": [
       "  0%|          | 0/302 [00:00<?, ?it/s]"
      ]
     },
     "metadata": {},
     "output_type": "display_data"
    },
    {
     "name": "stdout",
     "output_type": "stream",
     "text": [
      "Epoch 105, loss: 1.2868, iou: 0.7912\n"
     ]
    },
    {
     "data": {
      "application/vnd.jupyter.widget-view+json": {
       "model_id": "2085796ccd864acfa7352248cc46c1c7",
       "version_major": 2,
       "version_minor": 0
      },
      "text/plain": [
       "  0%|          | 0/302 [00:00<?, ?it/s]"
      ]
     },
     "metadata": {},
     "output_type": "display_data"
    },
    {
     "name": "stdout",
     "output_type": "stream",
     "text": [
      "Epoch 106, loss: 1.2820, iou: 0.7937\n"
     ]
    },
    {
     "data": {
      "application/vnd.jupyter.widget-view+json": {
       "model_id": "446d16884f73426eb050b12524a2ad11",
       "version_major": 2,
       "version_minor": 0
      },
      "text/plain": [
       "  0%|          | 0/302 [00:00<?, ?it/s]"
      ]
     },
     "metadata": {},
     "output_type": "display_data"
    },
    {
     "name": "stdout",
     "output_type": "stream",
     "text": [
      "Epoch 107, loss: 1.2918, iou: 0.7847\n"
     ]
    },
    {
     "data": {
      "application/vnd.jupyter.widget-view+json": {
       "model_id": "c38f5c46fcd34401be3e3cf57b98cb39",
       "version_major": 2,
       "version_minor": 0
      },
      "text/plain": [
       "  0%|          | 0/302 [00:00<?, ?it/s]"
      ]
     },
     "metadata": {},
     "output_type": "display_data"
    },
    {
     "name": "stdout",
     "output_type": "stream",
     "text": [
      "Epoch 108, loss: 1.2925, iou: 0.7732\n"
     ]
    },
    {
     "data": {
      "application/vnd.jupyter.widget-view+json": {
       "model_id": "ec9d5b8bd8e14c51b2453017fa5df67d",
       "version_major": 2,
       "version_minor": 0
      },
      "text/plain": [
       "  0%|          | 0/302 [00:00<?, ?it/s]"
      ]
     },
     "metadata": {},
     "output_type": "display_data"
    },
    {
     "name": "stdout",
     "output_type": "stream",
     "text": [
      "Epoch 109, loss: 1.2820, iou: 0.7884\n"
     ]
    },
    {
     "data": {
      "application/vnd.jupyter.widget-view+json": {
       "model_id": "656d7b30591242638a1f0e7d71ca006d",
       "version_major": 2,
       "version_minor": 0
      },
      "text/plain": [
       "  0%|          | 0/302 [00:00<?, ?it/s]"
      ]
     },
     "metadata": {},
     "output_type": "display_data"
    },
    {
     "name": "stdout",
     "output_type": "stream",
     "text": [
      "Epoch 110, loss: 1.2887, iou: 0.7790\n"
     ]
    },
    {
     "data": {
      "application/vnd.jupyter.widget-view+json": {
       "model_id": "176c564e955f4201b59caa74fa503134",
       "version_major": 2,
       "version_minor": 0
      },
      "text/plain": [
       "  0%|          | 0/302 [00:00<?, ?it/s]"
      ]
     },
     "metadata": {},
     "output_type": "display_data"
    },
    {
     "name": "stdout",
     "output_type": "stream",
     "text": [
      "Epoch 111, loss: 1.2883, iou: 0.7922\n"
     ]
    },
    {
     "data": {
      "application/vnd.jupyter.widget-view+json": {
       "model_id": "65240cc562344b249be919fb4cf83bd9",
       "version_major": 2,
       "version_minor": 0
      },
      "text/plain": [
       "  0%|          | 0/302 [00:00<?, ?it/s]"
      ]
     },
     "metadata": {},
     "output_type": "display_data"
    },
    {
     "name": "stdout",
     "output_type": "stream",
     "text": [
      "Epoch 112, loss: 1.2855, iou: 0.7841\n"
     ]
    },
    {
     "data": {
      "application/vnd.jupyter.widget-view+json": {
       "model_id": "a68b9eb3ae1c4522b47e49466e6d71c5",
       "version_major": 2,
       "version_minor": 0
      },
      "text/plain": [
       "  0%|          | 0/302 [00:00<?, ?it/s]"
      ]
     },
     "metadata": {},
     "output_type": "display_data"
    },
    {
     "name": "stdout",
     "output_type": "stream",
     "text": [
      "Epoch 113, loss: 1.2884, iou: 0.7956\n"
     ]
    },
    {
     "data": {
      "application/vnd.jupyter.widget-view+json": {
       "model_id": "9218e948f9a84e29be591a6aa642272f",
       "version_major": 2,
       "version_minor": 0
      },
      "text/plain": [
       "  0%|          | 0/302 [00:00<?, ?it/s]"
      ]
     },
     "metadata": {},
     "output_type": "display_data"
    },
    {
     "name": "stdout",
     "output_type": "stream",
     "text": [
      "Epoch 114, loss: 1.2812, iou: 0.7923\n"
     ]
    },
    {
     "data": {
      "application/vnd.jupyter.widget-view+json": {
       "model_id": "85cf599246eb4b59b75ffbdb76c84ce2",
       "version_major": 2,
       "version_minor": 0
      },
      "text/plain": [
       "  0%|          | 0/302 [00:00<?, ?it/s]"
      ]
     },
     "metadata": {},
     "output_type": "display_data"
    },
    {
     "name": "stdout",
     "output_type": "stream",
     "text": [
      "Epoch 115, loss: 1.2817, iou: 0.7971\n"
     ]
    },
    {
     "data": {
      "application/vnd.jupyter.widget-view+json": {
       "model_id": "5c5be87eb3d74d36b0fabe093913c6a9",
       "version_major": 2,
       "version_minor": 0
      },
      "text/plain": [
       "  0%|          | 0/302 [00:00<?, ?it/s]"
      ]
     },
     "metadata": {},
     "output_type": "display_data"
    },
    {
     "name": "stdout",
     "output_type": "stream",
     "text": [
      "Epoch 116, loss: 1.2738, iou: 0.7979\n"
     ]
    },
    {
     "data": {
      "application/vnd.jupyter.widget-view+json": {
       "model_id": "9b2532ee14584900ade6213ec6fb653d",
       "version_major": 2,
       "version_minor": 0
      },
      "text/plain": [
       "  0%|          | 0/302 [00:00<?, ?it/s]"
      ]
     },
     "metadata": {},
     "output_type": "display_data"
    },
    {
     "name": "stdout",
     "output_type": "stream",
     "text": [
      "Epoch 117, loss: 1.2794, iou: 0.7958\n"
     ]
    },
    {
     "data": {
      "application/vnd.jupyter.widget-view+json": {
       "model_id": "8e8cb0e7403f4fcaad03341a0933150f",
       "version_major": 2,
       "version_minor": 0
      },
      "text/plain": [
       "  0%|          | 0/302 [00:00<?, ?it/s]"
      ]
     },
     "metadata": {},
     "output_type": "display_data"
    },
    {
     "name": "stdout",
     "output_type": "stream",
     "text": [
      "Epoch 118, loss: 1.2790, iou: 0.7940\n"
     ]
    },
    {
     "data": {
      "application/vnd.jupyter.widget-view+json": {
       "model_id": "6a5295f237fe4259bd7e003ba75bae68",
       "version_major": 2,
       "version_minor": 0
      },
      "text/plain": [
       "  0%|          | 0/302 [00:00<?, ?it/s]"
      ]
     },
     "metadata": {},
     "output_type": "display_data"
    },
    {
     "name": "stdout",
     "output_type": "stream",
     "text": [
      "Epoch 119, loss: 1.2902, iou: 0.7833\n"
     ]
    },
    {
     "data": {
      "application/vnd.jupyter.widget-view+json": {
       "model_id": "28ed55e43d7a48fe98df2180472471d8",
       "version_major": 2,
       "version_minor": 0
      },
      "text/plain": [
       "  0%|          | 0/302 [00:00<?, ?it/s]"
      ]
     },
     "metadata": {},
     "output_type": "display_data"
    },
    {
     "name": "stdout",
     "output_type": "stream",
     "text": [
      "Epoch 120, loss: 1.2773, iou: 0.8029\n"
     ]
    },
    {
     "data": {
      "application/vnd.jupyter.widget-view+json": {
       "model_id": "a00e44b0a9574cd682766c350e1ee544",
       "version_major": 2,
       "version_minor": 0
      },
      "text/plain": [
       "  0%|          | 0/302 [00:00<?, ?it/s]"
      ]
     },
     "metadata": {},
     "output_type": "display_data"
    },
    {
     "name": "stdout",
     "output_type": "stream",
     "text": [
      "Epoch 121, loss: 1.2797, iou: 0.7968\n"
     ]
    },
    {
     "data": {
      "application/vnd.jupyter.widget-view+json": {
       "model_id": "318c5ec7b8024ffa8edc62c224597862",
       "version_major": 2,
       "version_minor": 0
      },
      "text/plain": [
       "  0%|          | 0/302 [00:00<?, ?it/s]"
      ]
     },
     "metadata": {},
     "output_type": "display_data"
    },
    {
     "name": "stdout",
     "output_type": "stream",
     "text": [
      "Epoch 122, loss: 1.2804, iou: 0.7988\n"
     ]
    },
    {
     "data": {
      "application/vnd.jupyter.widget-view+json": {
       "model_id": "e4545a0bf3e64009a3e9d6ad5d969b89",
       "version_major": 2,
       "version_minor": 0
      },
      "text/plain": [
       "  0%|          | 0/302 [00:00<?, ?it/s]"
      ]
     },
     "metadata": {},
     "output_type": "display_data"
    },
    {
     "name": "stdout",
     "output_type": "stream",
     "text": [
      "Epoch 123, loss: 1.2702, iou: 0.8001\n"
     ]
    },
    {
     "data": {
      "application/vnd.jupyter.widget-view+json": {
       "model_id": "463ca73b6f034f10a4d3ee838f6e4a7c",
       "version_major": 2,
       "version_minor": 0
      },
      "text/plain": [
       "  0%|          | 0/302 [00:00<?, ?it/s]"
      ]
     },
     "metadata": {},
     "output_type": "display_data"
    },
    {
     "name": "stdout",
     "output_type": "stream",
     "text": [
      "Epoch 124, loss: 1.2741, iou: 0.8068\n"
     ]
    },
    {
     "data": {
      "application/vnd.jupyter.widget-view+json": {
       "model_id": "2ff58186b75249958d649bf1aa025e05",
       "version_major": 2,
       "version_minor": 0
      },
      "text/plain": [
       "  0%|          | 0/302 [00:00<?, ?it/s]"
      ]
     },
     "metadata": {},
     "output_type": "display_data"
    },
    {
     "name": "stdout",
     "output_type": "stream",
     "text": [
      "Epoch 125, loss: 1.2820, iou: 0.7981\n"
     ]
    },
    {
     "data": {
      "application/vnd.jupyter.widget-view+json": {
       "model_id": "4c1570ef953a4eb4ade62c97cf692132",
       "version_major": 2,
       "version_minor": 0
      },
      "text/plain": [
       "  0%|          | 0/302 [00:00<?, ?it/s]"
      ]
     },
     "metadata": {},
     "output_type": "display_data"
    },
    {
     "name": "stdout",
     "output_type": "stream",
     "text": [
      "Epoch 126, loss: 1.2777, iou: 0.7934\n"
     ]
    },
    {
     "data": {
      "application/vnd.jupyter.widget-view+json": {
       "model_id": "f6faa89a60ae4166919bf472e16c9fef",
       "version_major": 2,
       "version_minor": 0
      },
      "text/plain": [
       "  0%|          | 0/302 [00:00<?, ?it/s]"
      ]
     },
     "metadata": {},
     "output_type": "display_data"
    },
    {
     "name": "stdout",
     "output_type": "stream",
     "text": [
      "Epoch 127, loss: 1.2805, iou: 0.7931\n"
     ]
    },
    {
     "data": {
      "application/vnd.jupyter.widget-view+json": {
       "model_id": "184bfc89736c42f2af834e3424194606",
       "version_major": 2,
       "version_minor": 0
      },
      "text/plain": [
       "  0%|          | 0/302 [00:00<?, ?it/s]"
      ]
     },
     "metadata": {},
     "output_type": "display_data"
    },
    {
     "name": "stdout",
     "output_type": "stream",
     "text": [
      "Epoch 128, loss: 1.2662, iou: 0.8132\n"
     ]
    },
    {
     "data": {
      "application/vnd.jupyter.widget-view+json": {
       "model_id": "b808e6de24c44d08a41cba7a5a981dda",
       "version_major": 2,
       "version_minor": 0
      },
      "text/plain": [
       "  0%|          | 0/302 [00:00<?, ?it/s]"
      ]
     },
     "metadata": {},
     "output_type": "display_data"
    },
    {
     "name": "stdout",
     "output_type": "stream",
     "text": [
      "Epoch 129, loss: 1.2673, iou: 0.8064\n"
     ]
    },
    {
     "data": {
      "application/vnd.jupyter.widget-view+json": {
       "model_id": "89740ce98c7a45aea483084d3fa41aa9",
       "version_major": 2,
       "version_minor": 0
      },
      "text/plain": [
       "  0%|          | 0/302 [00:00<?, ?it/s]"
      ]
     },
     "metadata": {},
     "output_type": "display_data"
    },
    {
     "name": "stdout",
     "output_type": "stream",
     "text": [
      "Epoch 130, loss: 1.2719, iou: 0.8029\n"
     ]
    },
    {
     "data": {
      "application/vnd.jupyter.widget-view+json": {
       "model_id": "9e21d93490b947c6b17e9a07a9556f2d",
       "version_major": 2,
       "version_minor": 0
      },
      "text/plain": [
       "  0%|          | 0/302 [00:00<?, ?it/s]"
      ]
     },
     "metadata": {},
     "output_type": "display_data"
    },
    {
     "name": "stdout",
     "output_type": "stream",
     "text": [
      "Epoch 131, loss: 1.2729, iou: 0.8005\n"
     ]
    },
    {
     "data": {
      "application/vnd.jupyter.widget-view+json": {
       "model_id": "15cd8d0d505f4239afea5a0e5afe99e4",
       "version_major": 2,
       "version_minor": 0
      },
      "text/plain": [
       "  0%|          | 0/302 [00:00<?, ?it/s]"
      ]
     },
     "metadata": {},
     "output_type": "display_data"
    },
    {
     "name": "stdout",
     "output_type": "stream",
     "text": [
      "Epoch 132, loss: 1.2776, iou: 0.8040\n"
     ]
    },
    {
     "data": {
      "application/vnd.jupyter.widget-view+json": {
       "model_id": "3758b723b63b472b86f9abdef64398e5",
       "version_major": 2,
       "version_minor": 0
      },
      "text/plain": [
       "  0%|          | 0/302 [00:00<?, ?it/s]"
      ]
     },
     "metadata": {},
     "output_type": "display_data"
    },
    {
     "name": "stdout",
     "output_type": "stream",
     "text": [
      "Epoch 133, loss: 1.2697, iou: 0.8072\n"
     ]
    },
    {
     "data": {
      "application/vnd.jupyter.widget-view+json": {
       "model_id": "5f36b99177154303b5bfbdbf97508acc",
       "version_major": 2,
       "version_minor": 0
      },
      "text/plain": [
       "  0%|          | 0/302 [00:00<?, ?it/s]"
      ]
     },
     "metadata": {},
     "output_type": "display_data"
    },
    {
     "name": "stdout",
     "output_type": "stream",
     "text": [
      "Epoch 134, loss: 1.2778, iou: 0.8008\n"
     ]
    },
    {
     "data": {
      "application/vnd.jupyter.widget-view+json": {
       "model_id": "9adfedf2eb3f4e6ebbe8fd38b748f135",
       "version_major": 2,
       "version_minor": 0
      },
      "text/plain": [
       "  0%|          | 0/302 [00:00<?, ?it/s]"
      ]
     },
     "metadata": {},
     "output_type": "display_data"
    },
    {
     "name": "stdout",
     "output_type": "stream",
     "text": [
      "Epoch 135, loss: 1.2673, iou: 0.8122\n"
     ]
    },
    {
     "data": {
      "application/vnd.jupyter.widget-view+json": {
       "model_id": "300b209b8b364236b5c273636d598180",
       "version_major": 2,
       "version_minor": 0
      },
      "text/plain": [
       "  0%|          | 0/302 [00:00<?, ?it/s]"
      ]
     },
     "metadata": {},
     "output_type": "display_data"
    },
    {
     "name": "stdout",
     "output_type": "stream",
     "text": [
      "Epoch 136, loss: 1.2675, iou: 0.8112\n"
     ]
    },
    {
     "data": {
      "application/vnd.jupyter.widget-view+json": {
       "model_id": "bce50de5e4c24c2bb14db2e6d2ef7a60",
       "version_major": 2,
       "version_minor": 0
      },
      "text/plain": [
       "  0%|          | 0/302 [00:00<?, ?it/s]"
      ]
     },
     "metadata": {},
     "output_type": "display_data"
    },
    {
     "name": "stdout",
     "output_type": "stream",
     "text": [
      "Epoch 137, loss: 1.2767, iou: 0.8077\n"
     ]
    },
    {
     "data": {
      "application/vnd.jupyter.widget-view+json": {
       "model_id": "c655a5abca8c41ebb0f0fb63e2de9d89",
       "version_major": 2,
       "version_minor": 0
      },
      "text/plain": [
       "  0%|          | 0/302 [00:00<?, ?it/s]"
      ]
     },
     "metadata": {},
     "output_type": "display_data"
    },
    {
     "name": "stdout",
     "output_type": "stream",
     "text": [
      "Epoch 138, loss: 1.2708, iou: 0.8031\n"
     ]
    },
    {
     "data": {
      "application/vnd.jupyter.widget-view+json": {
       "model_id": "63765814a7d144558ae01035d016db13",
       "version_major": 2,
       "version_minor": 0
      },
      "text/plain": [
       "  0%|          | 0/302 [00:00<?, ?it/s]"
      ]
     },
     "metadata": {},
     "output_type": "display_data"
    },
    {
     "name": "stdout",
     "output_type": "stream",
     "text": [
      "Epoch 139, loss: 1.2744, iou: 0.7971\n"
     ]
    },
    {
     "data": {
      "application/vnd.jupyter.widget-view+json": {
       "model_id": "e61d3711d8b241fb811c125dab9f03a0",
       "version_major": 2,
       "version_minor": 0
      },
      "text/plain": [
       "  0%|          | 0/302 [00:00<?, ?it/s]"
      ]
     },
     "metadata": {},
     "output_type": "display_data"
    },
    {
     "name": "stdout",
     "output_type": "stream",
     "text": [
      "Epoch 140, loss: 1.2677, iou: 0.8093\n"
     ]
    },
    {
     "data": {
      "application/vnd.jupyter.widget-view+json": {
       "model_id": "9a2cd41b235c4d338eda7c7a4304c3eb",
       "version_major": 2,
       "version_minor": 0
      },
      "text/plain": [
       "  0%|          | 0/302 [00:00<?, ?it/s]"
      ]
     },
     "metadata": {},
     "output_type": "display_data"
    },
    {
     "name": "stdout",
     "output_type": "stream",
     "text": [
      "Epoch 141, loss: 1.2631, iou: 0.8192\n"
     ]
    },
    {
     "data": {
      "application/vnd.jupyter.widget-view+json": {
       "model_id": "ead208e50afa44f0b9b1376cd8751ca6",
       "version_major": 2,
       "version_minor": 0
      },
      "text/plain": [
       "  0%|          | 0/302 [00:00<?, ?it/s]"
      ]
     },
     "metadata": {},
     "output_type": "display_data"
    },
    {
     "name": "stdout",
     "output_type": "stream",
     "text": [
      "Epoch 142, loss: 1.2625, iou: 0.8195\n"
     ]
    },
    {
     "data": {
      "application/vnd.jupyter.widget-view+json": {
       "model_id": "837a758cd29f4f17ae89837071e2ce9f",
       "version_major": 2,
       "version_minor": 0
      },
      "text/plain": [
       "  0%|          | 0/302 [00:00<?, ?it/s]"
      ]
     },
     "metadata": {},
     "output_type": "display_data"
    },
    {
     "name": "stdout",
     "output_type": "stream",
     "text": [
      "Epoch 143, loss: 1.2700, iou: 0.8070\n"
     ]
    },
    {
     "data": {
      "application/vnd.jupyter.widget-view+json": {
       "model_id": "38206a5a98cf4e4ab7c680e09cec9dc2",
       "version_major": 2,
       "version_minor": 0
      },
      "text/plain": [
       "  0%|          | 0/302 [00:00<?, ?it/s]"
      ]
     },
     "metadata": {},
     "output_type": "display_data"
    },
    {
     "name": "stdout",
     "output_type": "stream",
     "text": [
      "Epoch 144, loss: 1.2643, iou: 0.8115\n"
     ]
    },
    {
     "data": {
      "application/vnd.jupyter.widget-view+json": {
       "model_id": "2d9b15700e75473a961cd7c50589e89b",
       "version_major": 2,
       "version_minor": 0
      },
      "text/plain": [
       "  0%|          | 0/302 [00:00<?, ?it/s]"
      ]
     },
     "metadata": {},
     "output_type": "display_data"
    },
    {
     "name": "stdout",
     "output_type": "stream",
     "text": [
      "Epoch 145, loss: 1.2686, iou: 0.8031\n"
     ]
    },
    {
     "data": {
      "application/vnd.jupyter.widget-view+json": {
       "model_id": "7f13c2c4b2424183aed9e5fd69a024cf",
       "version_major": 2,
       "version_minor": 0
      },
      "text/plain": [
       "  0%|          | 0/302 [00:00<?, ?it/s]"
      ]
     },
     "metadata": {},
     "output_type": "display_data"
    },
    {
     "name": "stdout",
     "output_type": "stream",
     "text": [
      "Epoch 146, loss: 1.2687, iou: 0.8099\n"
     ]
    },
    {
     "data": {
      "application/vnd.jupyter.widget-view+json": {
       "model_id": "198421d3ac1341f68706931af88b3c97",
       "version_major": 2,
       "version_minor": 0
      },
      "text/plain": [
       "  0%|          | 0/302 [00:00<?, ?it/s]"
      ]
     },
     "metadata": {},
     "output_type": "display_data"
    },
    {
     "name": "stdout",
     "output_type": "stream",
     "text": [
      "Epoch 147, loss: 1.2657, iou: 0.8111\n"
     ]
    },
    {
     "data": {
      "application/vnd.jupyter.widget-view+json": {
       "model_id": "76f95bb2ca0342869e34ad1dc0ea5401",
       "version_major": 2,
       "version_minor": 0
      },
      "text/plain": [
       "  0%|          | 0/302 [00:00<?, ?it/s]"
      ]
     },
     "metadata": {},
     "output_type": "display_data"
    },
    {
     "name": "stdout",
     "output_type": "stream",
     "text": [
      "Epoch 148, loss: 1.2632, iou: 0.8174\n"
     ]
    },
    {
     "data": {
      "application/vnd.jupyter.widget-view+json": {
       "model_id": "91636dea7cfa4e06b5158dfff9035f94",
       "version_major": 2,
       "version_minor": 0
      },
      "text/plain": [
       "  0%|          | 0/302 [00:00<?, ?it/s]"
      ]
     },
     "metadata": {},
     "output_type": "display_data"
    },
    {
     "name": "stdout",
     "output_type": "stream",
     "text": [
      "Epoch 149, loss: 1.2646, iou: 0.8148\n"
     ]
    },
    {
     "data": {
      "application/vnd.jupyter.widget-view+json": {
       "model_id": "471a5a904ee443199fc1aa0486fe35ef",
       "version_major": 2,
       "version_minor": 0
      },
      "text/plain": [
       "  0%|          | 0/302 [00:00<?, ?it/s]"
      ]
     },
     "metadata": {},
     "output_type": "display_data"
    },
    {
     "name": "stdout",
     "output_type": "stream",
     "text": [
      "Epoch 150, loss: 1.2650, iou: 0.8194\n"
     ]
    },
    {
     "data": {
      "application/vnd.jupyter.widget-view+json": {
       "model_id": "4942dbd1b32d4558951ce5c71488c7e3",
       "version_major": 2,
       "version_minor": 0
      },
      "text/plain": [
       "  0%|          | 0/302 [00:00<?, ?it/s]"
      ]
     },
     "metadata": {},
     "output_type": "display_data"
    },
    {
     "name": "stdout",
     "output_type": "stream",
     "text": [
      "Epoch 151, loss: 1.2635, iou: 0.8114\n"
     ]
    },
    {
     "data": {
      "application/vnd.jupyter.widget-view+json": {
       "model_id": "b87dcb2c8bad48499c97a8b5a39e418c",
       "version_major": 2,
       "version_minor": 0
      },
      "text/plain": [
       "  0%|          | 0/302 [00:00<?, ?it/s]"
      ]
     },
     "metadata": {},
     "output_type": "display_data"
    },
    {
     "name": "stdout",
     "output_type": "stream",
     "text": [
      "Epoch 152, loss: 1.2697, iou: 0.8147\n"
     ]
    },
    {
     "data": {
      "application/vnd.jupyter.widget-view+json": {
       "model_id": "c63da478064941848ea02c154242f3db",
       "version_major": 2,
       "version_minor": 0
      },
      "text/plain": [
       "  0%|          | 0/302 [00:00<?, ?it/s]"
      ]
     },
     "metadata": {},
     "output_type": "display_data"
    },
    {
     "name": "stdout",
     "output_type": "stream",
     "text": [
      "Epoch 153, loss: 1.2639, iou: 0.8196\n"
     ]
    },
    {
     "data": {
      "application/vnd.jupyter.widget-view+json": {
       "model_id": "e62c0f5ffb94430ab8d572069a5a2fc6",
       "version_major": 2,
       "version_minor": 0
      },
      "text/plain": [
       "  0%|          | 0/302 [00:00<?, ?it/s]"
      ]
     },
     "metadata": {},
     "output_type": "display_data"
    },
    {
     "name": "stdout",
     "output_type": "stream",
     "text": [
      "Epoch 154, loss: 1.2602, iou: 0.8151\n"
     ]
    },
    {
     "data": {
      "application/vnd.jupyter.widget-view+json": {
       "model_id": "60d190f0bdf34ce58b0cffb63d8e2dd1",
       "version_major": 2,
       "version_minor": 0
      },
      "text/plain": [
       "  0%|          | 0/302 [00:00<?, ?it/s]"
      ]
     },
     "metadata": {},
     "output_type": "display_data"
    },
    {
     "name": "stdout",
     "output_type": "stream",
     "text": [
      "Epoch 155, loss: 1.2644, iou: 0.8227\n"
     ]
    },
    {
     "data": {
      "application/vnd.jupyter.widget-view+json": {
       "model_id": "1547458c88ed41308c616ee5d789925c",
       "version_major": 2,
       "version_minor": 0
      },
      "text/plain": [
       "  0%|          | 0/302 [00:00<?, ?it/s]"
      ]
     },
     "metadata": {},
     "output_type": "display_data"
    },
    {
     "name": "stdout",
     "output_type": "stream",
     "text": [
      "Epoch 156, loss: 1.2580, iou: 0.8192\n"
     ]
    },
    {
     "data": {
      "application/vnd.jupyter.widget-view+json": {
       "model_id": "865d419ce7834fcaaf0adb5fbf26a2d3",
       "version_major": 2,
       "version_minor": 0
      },
      "text/plain": [
       "  0%|          | 0/302 [00:00<?, ?it/s]"
      ]
     },
     "metadata": {},
     "output_type": "display_data"
    },
    {
     "name": "stdout",
     "output_type": "stream",
     "text": [
      "Epoch 157, loss: 1.2592, iou: 0.8268\n"
     ]
    },
    {
     "data": {
      "application/vnd.jupyter.widget-view+json": {
       "model_id": "a972ef47d83e4435a8d0631130c33bde",
       "version_major": 2,
       "version_minor": 0
      },
      "text/plain": [
       "  0%|          | 0/302 [00:00<?, ?it/s]"
      ]
     },
     "metadata": {},
     "output_type": "display_data"
    },
    {
     "name": "stdout",
     "output_type": "stream",
     "text": [
      "Epoch 158, loss: 1.2722, iou: 0.8095\n"
     ]
    },
    {
     "data": {
      "application/vnd.jupyter.widget-view+json": {
       "model_id": "9f55a8c2986e4823b1de18ab91a4492a",
       "version_major": 2,
       "version_minor": 0
      },
      "text/plain": [
       "  0%|          | 0/302 [00:00<?, ?it/s]"
      ]
     },
     "metadata": {},
     "output_type": "display_data"
    },
    {
     "name": "stdout",
     "output_type": "stream",
     "text": [
      "Epoch 159, loss: 1.2625, iou: 0.8179\n"
     ]
    },
    {
     "data": {
      "application/vnd.jupyter.widget-view+json": {
       "model_id": "5617cab6576e4a82a6f0749f23bb8f73",
       "version_major": 2,
       "version_minor": 0
      },
      "text/plain": [
       "  0%|          | 0/302 [00:00<?, ?it/s]"
      ]
     },
     "metadata": {},
     "output_type": "display_data"
    },
    {
     "name": "stdout",
     "output_type": "stream",
     "text": [
      "Epoch 160, loss: 1.2435, iou: 0.8429\n"
     ]
    },
    {
     "data": {
      "application/vnd.jupyter.widget-view+json": {
       "model_id": "04cec50829c54875a5ddc927d749e985",
       "version_major": 2,
       "version_minor": 0
      },
      "text/plain": [
       "  0%|          | 0/302 [00:00<?, ?it/s]"
      ]
     },
     "metadata": {},
     "output_type": "display_data"
    },
    {
     "name": "stdout",
     "output_type": "stream",
     "text": [
      "Epoch 161, loss: 1.2333, iou: 0.8493\n"
     ]
    },
    {
     "data": {
      "application/vnd.jupyter.widget-view+json": {
       "model_id": "1547fde0f9f74ee2b81a3f43d8484687",
       "version_major": 2,
       "version_minor": 0
      },
      "text/plain": [
       "  0%|          | 0/302 [00:00<?, ?it/s]"
      ]
     },
     "metadata": {},
     "output_type": "display_data"
    },
    {
     "name": "stdout",
     "output_type": "stream",
     "text": [
      "Epoch 162, loss: 1.2376, iou: 0.8498\n"
     ]
    },
    {
     "data": {
      "application/vnd.jupyter.widget-view+json": {
       "model_id": "616c9edf3175462badcb654f23b0f177",
       "version_major": 2,
       "version_minor": 0
      },
      "text/plain": [
       "  0%|          | 0/302 [00:00<?, ?it/s]"
      ]
     },
     "metadata": {},
     "output_type": "display_data"
    },
    {
     "name": "stdout",
     "output_type": "stream",
     "text": [
      "Epoch 163, loss: 1.2395, iou: 0.8378\n"
     ]
    },
    {
     "data": {
      "application/vnd.jupyter.widget-view+json": {
       "model_id": "f3296713eb6b49c99fd07f394f20be2a",
       "version_major": 2,
       "version_minor": 0
      },
      "text/plain": [
       "  0%|          | 0/302 [00:00<?, ?it/s]"
      ]
     },
     "metadata": {},
     "output_type": "display_data"
    },
    {
     "name": "stdout",
     "output_type": "stream",
     "text": [
      "Epoch 164, loss: 1.2413, iou: 0.8414\n"
     ]
    },
    {
     "data": {
      "application/vnd.jupyter.widget-view+json": {
       "model_id": "e790ed0eb96f4ff9a638bd75b0b28c81",
       "version_major": 2,
       "version_minor": 0
      },
      "text/plain": [
       "  0%|          | 0/302 [00:00<?, ?it/s]"
      ]
     },
     "metadata": {},
     "output_type": "display_data"
    },
    {
     "name": "stdout",
     "output_type": "stream",
     "text": [
      "Epoch 165, loss: 1.2346, iou: 0.8533\n"
     ]
    },
    {
     "data": {
      "application/vnd.jupyter.widget-view+json": {
       "model_id": "4da555e2eed2407288c776b12f81768d",
       "version_major": 2,
       "version_minor": 0
      },
      "text/plain": [
       "  0%|          | 0/302 [00:00<?, ?it/s]"
      ]
     },
     "metadata": {},
     "output_type": "display_data"
    },
    {
     "name": "stdout",
     "output_type": "stream",
     "text": [
      "Epoch 166, loss: 1.2415, iou: 0.8456\n"
     ]
    },
    {
     "data": {
      "application/vnd.jupyter.widget-view+json": {
       "model_id": "19ddbe9ad3854ed8af2d8c7340c4b868",
       "version_major": 2,
       "version_minor": 0
      },
      "text/plain": [
       "  0%|          | 0/302 [00:00<?, ?it/s]"
      ]
     },
     "metadata": {},
     "output_type": "display_data"
    },
    {
     "name": "stdout",
     "output_type": "stream",
     "text": [
      "Epoch 167, loss: 1.2389, iou: 0.8419\n"
     ]
    },
    {
     "data": {
      "application/vnd.jupyter.widget-view+json": {
       "model_id": "3c6b28080fb44451a27e1c3a992c25a8",
       "version_major": 2,
       "version_minor": 0
      },
      "text/plain": [
       "  0%|          | 0/302 [00:00<?, ?it/s]"
      ]
     },
     "metadata": {},
     "output_type": "display_data"
    },
    {
     "name": "stdout",
     "output_type": "stream",
     "text": [
      "Epoch 168, loss: 1.2321, iou: 0.8544\n"
     ]
    },
    {
     "data": {
      "application/vnd.jupyter.widget-view+json": {
       "model_id": "b273154f209f42e2890c4d0c43b308f1",
       "version_major": 2,
       "version_minor": 0
      },
      "text/plain": [
       "  0%|          | 0/302 [00:00<?, ?it/s]"
      ]
     },
     "metadata": {},
     "output_type": "display_data"
    },
    {
     "name": "stdout",
     "output_type": "stream",
     "text": [
      "Epoch 169, loss: 1.2336, iou: 0.8556\n"
     ]
    },
    {
     "data": {
      "application/vnd.jupyter.widget-view+json": {
       "model_id": "c06fd0b1a6f748feaec683fef5b9f337",
       "version_major": 2,
       "version_minor": 0
      },
      "text/plain": [
       "  0%|          | 0/302 [00:00<?, ?it/s]"
      ]
     },
     "metadata": {},
     "output_type": "display_data"
    },
    {
     "name": "stdout",
     "output_type": "stream",
     "text": [
      "Epoch 170, loss: 1.2389, iou: 0.8411\n"
     ]
    },
    {
     "data": {
      "application/vnd.jupyter.widget-view+json": {
       "model_id": "903d4c7a3a294db393117776e0b04495",
       "version_major": 2,
       "version_minor": 0
      },
      "text/plain": [
       "  0%|          | 0/302 [00:00<?, ?it/s]"
      ]
     },
     "metadata": {},
     "output_type": "display_data"
    },
    {
     "name": "stdout",
     "output_type": "stream",
     "text": [
      "Epoch 171, loss: 1.2346, iou: 0.8551\n"
     ]
    },
    {
     "data": {
      "application/vnd.jupyter.widget-view+json": {
       "model_id": "efec3c67ef304a2093bf9aa7b6ee24a1",
       "version_major": 2,
       "version_minor": 0
      },
      "text/plain": [
       "  0%|          | 0/302 [00:00<?, ?it/s]"
      ]
     },
     "metadata": {},
     "output_type": "display_data"
    },
    {
     "name": "stdout",
     "output_type": "stream",
     "text": [
      "Epoch 172, loss: 1.2342, iou: 0.8546\n"
     ]
    },
    {
     "data": {
      "application/vnd.jupyter.widget-view+json": {
       "model_id": "f7811350cdbd4bff845f146acfecfa2e",
       "version_major": 2,
       "version_minor": 0
      },
      "text/plain": [
       "  0%|          | 0/302 [00:00<?, ?it/s]"
      ]
     },
     "metadata": {},
     "output_type": "display_data"
    },
    {
     "name": "stdout",
     "output_type": "stream",
     "text": [
      "Epoch 173, loss: 1.2352, iou: 0.8611\n"
     ]
    },
    {
     "data": {
      "application/vnd.jupyter.widget-view+json": {
       "model_id": "179714481e204b9f9ea6bdad5c1d04e6",
       "version_major": 2,
       "version_minor": 0
      },
      "text/plain": [
       "  0%|          | 0/302 [00:00<?, ?it/s]"
      ]
     },
     "metadata": {},
     "output_type": "display_data"
    },
    {
     "name": "stdout",
     "output_type": "stream",
     "text": [
      "Epoch 174, loss: 1.2322, iou: 0.8523\n"
     ]
    },
    {
     "data": {
      "application/vnd.jupyter.widget-view+json": {
       "model_id": "838c23d5017642c9ba2ea98b19c71be5",
       "version_major": 2,
       "version_minor": 0
      },
      "text/plain": [
       "  0%|          | 0/302 [00:00<?, ?it/s]"
      ]
     },
     "metadata": {},
     "output_type": "display_data"
    },
    {
     "name": "stdout",
     "output_type": "stream",
     "text": [
      "Epoch 175, loss: 1.2253, iou: 0.8616\n"
     ]
    },
    {
     "data": {
      "application/vnd.jupyter.widget-view+json": {
       "model_id": "37ba745d91014156be08d4f825d2fbe8",
       "version_major": 2,
       "version_minor": 0
      },
      "text/plain": [
       "  0%|          | 0/302 [00:00<?, ?it/s]"
      ]
     },
     "metadata": {},
     "output_type": "display_data"
    },
    {
     "name": "stdout",
     "output_type": "stream",
     "text": [
      "Epoch 176, loss: 1.2328, iou: 0.8481\n"
     ]
    },
    {
     "data": {
      "application/vnd.jupyter.widget-view+json": {
       "model_id": "360fe435c7a54bf482f8b94a8c8df274",
       "version_major": 2,
       "version_minor": 0
      },
      "text/plain": [
       "  0%|          | 0/302 [00:00<?, ?it/s]"
      ]
     },
     "metadata": {},
     "output_type": "display_data"
    },
    {
     "name": "stdout",
     "output_type": "stream",
     "text": [
      "Epoch 177, loss: 1.2298, iou: 0.8565\n"
     ]
    },
    {
     "data": {
      "application/vnd.jupyter.widget-view+json": {
       "model_id": "8c17f5d4bd194f3d800a2f3d34a99669",
       "version_major": 2,
       "version_minor": 0
      },
      "text/plain": [
       "  0%|          | 0/302 [00:00<?, ?it/s]"
      ]
     },
     "metadata": {},
     "output_type": "display_data"
    },
    {
     "name": "stdout",
     "output_type": "stream",
     "text": [
      "Epoch 178, loss: 1.2284, iou: 0.8602\n"
     ]
    },
    {
     "data": {
      "application/vnd.jupyter.widget-view+json": {
       "model_id": "fcd34e3e932f4eb09e5221decd739681",
       "version_major": 2,
       "version_minor": 0
      },
      "text/plain": [
       "  0%|          | 0/302 [00:00<?, ?it/s]"
      ]
     },
     "metadata": {},
     "output_type": "display_data"
    },
    {
     "name": "stdout",
     "output_type": "stream",
     "text": [
      "Epoch 179, loss: 1.2343, iou: 0.8473\n"
     ]
    },
    {
     "data": {
      "application/vnd.jupyter.widget-view+json": {
       "model_id": "06aedb3256b944aebf891bcbb00be710",
       "version_major": 2,
       "version_minor": 0
      },
      "text/plain": [
       "  0%|          | 0/302 [00:00<?, ?it/s]"
      ]
     },
     "metadata": {},
     "output_type": "display_data"
    },
    {
     "name": "stdout",
     "output_type": "stream",
     "text": [
      "Epoch 180, loss: 1.2383, iou: 0.8498\n"
     ]
    },
    {
     "data": {
      "application/vnd.jupyter.widget-view+json": {
       "model_id": "58f369a5cc3d471eb3c34e30fb19c006",
       "version_major": 2,
       "version_minor": 0
      },
      "text/plain": [
       "  0%|          | 0/302 [00:00<?, ?it/s]"
      ]
     },
     "metadata": {},
     "output_type": "display_data"
    },
    {
     "name": "stdout",
     "output_type": "stream",
     "text": [
      "Epoch 181, loss: 1.2335, iou: 0.8533\n"
     ]
    },
    {
     "data": {
      "application/vnd.jupyter.widget-view+json": {
       "model_id": "6efc679831c44a19a4b6c88a85e44b84",
       "version_major": 2,
       "version_minor": 0
      },
      "text/plain": [
       "  0%|          | 0/302 [00:00<?, ?it/s]"
      ]
     },
     "metadata": {},
     "output_type": "display_data"
    },
    {
     "name": "stdout",
     "output_type": "stream",
     "text": [
      "Epoch 182, loss: 1.2329, iou: 0.8550\n"
     ]
    },
    {
     "data": {
      "application/vnd.jupyter.widget-view+json": {
       "model_id": "4255f1a0a6f24dc3890e1fd540164287",
       "version_major": 2,
       "version_minor": 0
      },
      "text/plain": [
       "  0%|          | 0/302 [00:00<?, ?it/s]"
      ]
     },
     "metadata": {},
     "output_type": "display_data"
    },
    {
     "name": "stdout",
     "output_type": "stream",
     "text": [
      "Epoch 183, loss: 1.2281, iou: 0.8665\n"
     ]
    },
    {
     "data": {
      "application/vnd.jupyter.widget-view+json": {
       "model_id": "668e8a1c30c3461c857bc9811403036c",
       "version_major": 2,
       "version_minor": 0
      },
      "text/plain": [
       "  0%|          | 0/302 [00:00<?, ?it/s]"
      ]
     },
     "metadata": {},
     "output_type": "display_data"
    },
    {
     "name": "stdout",
     "output_type": "stream",
     "text": [
      "Epoch 184, loss: 1.2373, iou: 0.8549\n"
     ]
    },
    {
     "data": {
      "application/vnd.jupyter.widget-view+json": {
       "model_id": "8ae914d9110941c9a318b053bf11f407",
       "version_major": 2,
       "version_minor": 0
      },
      "text/plain": [
       "  0%|          | 0/302 [00:00<?, ?it/s]"
      ]
     },
     "metadata": {},
     "output_type": "display_data"
    },
    {
     "name": "stdout",
     "output_type": "stream",
     "text": [
      "Epoch 185, loss: 1.2306, iou: 0.8580\n"
     ]
    },
    {
     "data": {
      "application/vnd.jupyter.widget-view+json": {
       "model_id": "2e8f3f4278a844c882ed6a5d825672ab",
       "version_major": 2,
       "version_minor": 0
      },
      "text/plain": [
       "  0%|          | 0/302 [00:00<?, ?it/s]"
      ]
     },
     "metadata": {},
     "output_type": "display_data"
    },
    {
     "name": "stdout",
     "output_type": "stream",
     "text": [
      "Epoch 186, loss: 1.2298, iou: 0.8586\n"
     ]
    },
    {
     "data": {
      "application/vnd.jupyter.widget-view+json": {
       "model_id": "0150c94b6cf04ec69931a9e385172806",
       "version_major": 2,
       "version_minor": 0
      },
      "text/plain": [
       "  0%|          | 0/302 [00:00<?, ?it/s]"
      ]
     },
     "metadata": {},
     "output_type": "display_data"
    },
    {
     "name": "stdout",
     "output_type": "stream",
     "text": [
      "Epoch 187, loss: 1.2306, iou: 0.8603\n"
     ]
    },
    {
     "data": {
      "application/vnd.jupyter.widget-view+json": {
       "model_id": "ee5f9414e08944e9bbc4bcde9a94c6f5",
       "version_major": 2,
       "version_minor": 0
      },
      "text/plain": [
       "  0%|          | 0/302 [00:00<?, ?it/s]"
      ]
     },
     "metadata": {},
     "output_type": "display_data"
    },
    {
     "name": "stdout",
     "output_type": "stream",
     "text": [
      "Epoch 188, loss: 1.2306, iou: 0.8523\n"
     ]
    },
    {
     "data": {
      "application/vnd.jupyter.widget-view+json": {
       "model_id": "d6f9b499503345e09e929e0bcc02f417",
       "version_major": 2,
       "version_minor": 0
      },
      "text/plain": [
       "  0%|          | 0/302 [00:00<?, ?it/s]"
      ]
     },
     "metadata": {},
     "output_type": "display_data"
    },
    {
     "name": "stdout",
     "output_type": "stream",
     "text": [
      "Epoch 189, loss: 1.2266, iou: 0.8600\n"
     ]
    },
    {
     "data": {
      "application/vnd.jupyter.widget-view+json": {
       "model_id": "5d839ca98b724e4990ea33f2ac9d7bfc",
       "version_major": 2,
       "version_minor": 0
      },
      "text/plain": [
       "  0%|          | 0/302 [00:00<?, ?it/s]"
      ]
     },
     "metadata": {},
     "output_type": "display_data"
    },
    {
     "name": "stdout",
     "output_type": "stream",
     "text": [
      "Epoch 190, loss: 1.2301, iou: 0.8605\n"
     ]
    },
    {
     "data": {
      "application/vnd.jupyter.widget-view+json": {
       "model_id": "c87dac91f05e437f92610bae108e011b",
       "version_major": 2,
       "version_minor": 0
      },
      "text/plain": [
       "  0%|          | 0/302 [00:00<?, ?it/s]"
      ]
     },
     "metadata": {},
     "output_type": "display_data"
    },
    {
     "name": "stdout",
     "output_type": "stream",
     "text": [
      "Epoch 191, loss: 1.2303, iou: 0.8591\n"
     ]
    },
    {
     "data": {
      "application/vnd.jupyter.widget-view+json": {
       "model_id": "ae295a771cc643f98fe0ffaf0ee53d4b",
       "version_major": 2,
       "version_minor": 0
      },
      "text/plain": [
       "  0%|          | 0/302 [00:00<?, ?it/s]"
      ]
     },
     "metadata": {},
     "output_type": "display_data"
    },
    {
     "name": "stdout",
     "output_type": "stream",
     "text": [
      "Epoch 192, loss: 1.2367, iou: 0.8532\n"
     ]
    },
    {
     "data": {
      "application/vnd.jupyter.widget-view+json": {
       "model_id": "87257afe4c004720a651607e0dc65f3c",
       "version_major": 2,
       "version_minor": 0
      },
      "text/plain": [
       "  0%|          | 0/302 [00:00<?, ?it/s]"
      ]
     },
     "metadata": {},
     "output_type": "display_data"
    },
    {
     "name": "stdout",
     "output_type": "stream",
     "text": [
      "Epoch 193, loss: 1.2338, iou: 0.8587\n"
     ]
    },
    {
     "data": {
      "application/vnd.jupyter.widget-view+json": {
       "model_id": "f8eeb7013db74dc29fb67c2f4fa2be56",
       "version_major": 2,
       "version_minor": 0
      },
      "text/plain": [
       "  0%|          | 0/302 [00:00<?, ?it/s]"
      ]
     },
     "metadata": {},
     "output_type": "display_data"
    },
    {
     "name": "stdout",
     "output_type": "stream",
     "text": [
      "Epoch 194, loss: 1.2232, iou: 0.8679\n"
     ]
    },
    {
     "data": {
      "application/vnd.jupyter.widget-view+json": {
       "model_id": "b015d63a80ed4ab480c5e3e63bcb13a6",
       "version_major": 2,
       "version_minor": 0
      },
      "text/plain": [
       "  0%|          | 0/302 [00:00<?, ?it/s]"
      ]
     },
     "metadata": {},
     "output_type": "display_data"
    },
    {
     "name": "stdout",
     "output_type": "stream",
     "text": [
      "Epoch 195, loss: 1.2244, iou: 0.8724\n"
     ]
    },
    {
     "data": {
      "application/vnd.jupyter.widget-view+json": {
       "model_id": "093887ed0ec24b00931e4af6dd22e5cd",
       "version_major": 2,
       "version_minor": 0
      },
      "text/plain": [
       "  0%|          | 0/302 [00:00<?, ?it/s]"
      ]
     },
     "metadata": {},
     "output_type": "display_data"
    },
    {
     "name": "stdout",
     "output_type": "stream",
     "text": [
      "Epoch 196, loss: 1.2256, iou: 0.8714\n"
     ]
    },
    {
     "data": {
      "application/vnd.jupyter.widget-view+json": {
       "model_id": "66db278360cc486abbeabe3e843486db",
       "version_major": 2,
       "version_minor": 0
      },
      "text/plain": [
       "  0%|          | 0/302 [00:00<?, ?it/s]"
      ]
     },
     "metadata": {},
     "output_type": "display_data"
    },
    {
     "name": "stdout",
     "output_type": "stream",
     "text": [
      "Epoch 197, loss: 1.2249, iou: 0.8670\n"
     ]
    },
    {
     "data": {
      "application/vnd.jupyter.widget-view+json": {
       "model_id": "7841aebfe0044c998b086c02612074d7",
       "version_major": 2,
       "version_minor": 0
      },
      "text/plain": [
       "  0%|          | 0/302 [00:00<?, ?it/s]"
      ]
     },
     "metadata": {},
     "output_type": "display_data"
    },
    {
     "name": "stdout",
     "output_type": "stream",
     "text": [
      "Epoch 198, loss: 1.2272, iou: 0.8636\n"
     ]
    },
    {
     "data": {
      "application/vnd.jupyter.widget-view+json": {
       "model_id": "b622607dd87540f386279855601b3b0a",
       "version_major": 2,
       "version_minor": 0
      },
      "text/plain": [
       "  0%|          | 0/302 [00:00<?, ?it/s]"
      ]
     },
     "metadata": {},
     "output_type": "display_data"
    },
    {
     "name": "stdout",
     "output_type": "stream",
     "text": [
      "Epoch 199, loss: 1.2279, iou: 0.8638\n"
     ]
    },
    {
     "data": {
      "application/vnd.jupyter.widget-view+json": {
       "model_id": "40f2c00ad0e846209404f1282478b112",
       "version_major": 2,
       "version_minor": 0
      },
      "text/plain": [
       "  0%|          | 0/302 [00:00<?, ?it/s]"
      ]
     },
     "metadata": {},
     "output_type": "display_data"
    },
    {
     "name": "stdout",
     "output_type": "stream",
     "text": [
      "Epoch 200, loss: 1.2247, iou: 0.8741\n"
     ]
    }
   ],
   "source": [
    "##train \n",
    "learning_rate = 1e-3\n",
    "model = GraphPointerNet(2, 4, embedding_dim = 32, num_layers=5, \n",
    "                        num_layers_LSTM = 1, hidden_dim=256, max_steps=40, attention=True, num_cold_start=0).to(device)\n",
    "optimizer = optim.Adam(model.parameters(), lr=learning_rate)\n",
    "scheduler = torch.optim.lr_scheduler.ReduceLROnPlateau(\n",
    "              optimizer, mode='min', factor=0.5, patience=2000, verbose=False)\n",
    "\n",
    "loss_trace = []\n",
    "iou = []\n",
    "epochs = 200\n",
    "k = 5\n",
    "\n",
    "for i in tqdm(range(epochs)):\n",
    "    #pass through all the data\n",
    "    for x, tri in tqdm(train_loader):\n",
    "        #prepare the data batch\n",
    "        data_batch = make_pyg_batch_wedge(x, k)\n",
    "        \n",
    "        #forward pass\n",
    "        logits, indicies = model(data_batch, teacher_indices=tri)\n",
    "        \n",
    "        #compute the loss\n",
    "        loss = loss_neg_log(logits, tri)\n",
    "        \n",
    "        #backward pass and optimization \n",
    "        optimizer.zero_grad()\n",
    "        loss.backward()\n",
    "        torch.nn.utils.clip_grad_norm_(model.parameters(), 1.0)  # grad‑clip\n",
    "        optimizer.step()\n",
    "        scheduler.step(loss.item())\n",
    "        \n",
    "        loss_trace.append(loss.item())\n",
    "        iou.append(iou_triangles(tri, indicies))\n",
    "\n",
    "    print(\"Epoch {}, loss: {:.4f}, iou: {:.4f}\".format(i+1, loss_trace[-1], iou[-1]))"
   ]
  },
  {
   "cell_type": "code",
   "execution_count": 5,
   "id": "88628e9c-100c-48ff-87a0-ef2ebe1ae74a",
   "metadata": {},
   "outputs": [
    {
     "data": {
      "text/plain": [
       "GraphPointerNet(\n",
       "  (MP_model): MP_GNN(\n",
       "    (initial_layer): MPNNWithEdgeUpdate()\n",
       "    (layers_list): ModuleList(\n",
       "      (0-3): 4 x MPNNWithEdgeUpdate()\n",
       "    )\n",
       "  )\n",
       "  (Pointer_model): PointerNetForTriangles(\n",
       "    (encoder): EncoderLSTM(\n",
       "      (lstm): LSTM(32, 256, batch_first=True)\n",
       "    )\n",
       "    (decoder): DecoderLSTM_att(\n",
       "      (lstm_cell): LSTMCell(768, 256)\n",
       "      (self_attn): MultiheadAttention(\n",
       "        (out_proj): NonDynamicallyQuantizableLinear(in_features=256, out_features=256, bias=True)\n",
       "      )\n",
       "      (query_transform): Linear(in_features=256, out_features=256, bias=True)\n",
       "    )\n",
       "  )\n",
       ")"
      ]
     },
     "execution_count": 5,
     "metadata": {},
     "output_type": "execute_result"
    }
   ],
   "source": [
    "model"
   ]
  },
  {
   "cell_type": "code",
   "execution_count": null,
   "id": "fe9269d5-7f2a-4e62-8fe6-aab4fc3fc0cf",
   "metadata": {},
   "outputs": [],
   "source": []
  },
  {
   "cell_type": "code",
   "execution_count": 4,
   "id": "d68bf82b-5d1c-448e-863c-272c3e8e27a0",
   "metadata": {},
   "outputs": [
    {
     "data": {
      "text/plain": [
       "<All keys matched successfully>"
      ]
     },
     "execution_count": 4,
     "metadata": {},
     "output_type": "execute_result"
    }
   ],
   "source": [
    "##load some model\n",
    "model = GraphPointerNet(2, 4, embedding_dim = 32, num_layers=5, \n",
    "                        num_layers_LSTM = 1, hidden_dim=256, max_steps=40, attention=True, num_cold_start=0).to(device)\n",
    "# Load the state dictionary from the file\n",
    "state_dict = torch.load(\"model18.pt\", map_location=device)\n",
    "\n",
    "# Load the weights into the model\n",
    "model.load_state_dict(state_dict)"
   ]
  },
  {
   "cell_type": "code",
   "execution_count": null,
   "id": "cc41e217-2069-4b47-95e0-775858e37ef7",
   "metadata": {},
   "outputs": [],
   "source": []
  },
  {
   "cell_type": "code",
   "execution_count": null,
   "id": "1da62278-2246-40b2-b7cd-82168a82def0",
   "metadata": {},
   "outputs": [],
   "source": []
  },
  {
   "cell_type": "code",
   "execution_count": null,
   "id": "bf61d24c-aa27-4e27-a205-5549e539f0b6",
   "metadata": {},
   "outputs": [],
   "source": []
  },
  {
   "cell_type": "code",
   "execution_count": null,
   "id": "610c3d16-4965-4e92-9b55-69c22f08cd25",
   "metadata": {},
   "outputs": [],
   "source": []
  },
  {
   "cell_type": "code",
   "execution_count": null,
   "id": "4f048400-8ae6-4ab9-b904-5391cc2cf691",
   "metadata": {},
   "outputs": [],
   "source": []
  },
  {
   "cell_type": "code",
   "execution_count": 7,
   "id": "329fb021-26cf-4f1c-ab9a-ebd3b89e8b5a",
   "metadata": {},
   "outputs": [
    {
     "name": "stdout",
     "output_type": "stream",
     "text": [
      "Time used to build 256 Delaunay graph is: 0.3928349018096924\n",
      "In average, each graph takes:  0.0015345113351941109\n"
     ]
    }
   ],
   "source": [
    "for x, tri in train_loader:\n",
    "    break\n",
    "data_batch = make_pyg_batch_wedge(x, 5)\n",
    "\n",
    "import time\n",
    "s = time.time()\n",
    "logits, indicies = model(data_batch, max_steps=35)\n",
    "e = time.time()\n",
    "print(\"Time used to build {} Delaunay graph is: {}\".format(batch_size, e-s))\n",
    "print(\"In average, each graph takes: \", (e-s)/batch_size)"
   ]
  },
  {
   "cell_type": "code",
   "execution_count": 10,
   "id": "e31d58f8-27ce-4ef8-9bae-428100f33437",
   "metadata": {},
   "outputs": [
    {
     "data": {
      "image/png": "[encoded data removed]",
      "text/plain": [
       "<Figure size 1000x400 with 2 Axes>"
      ]
     },
     "metadata": {},
     "output_type": "display_data"
    }
   ],
   "source": [
    "i = 11\n",
    "\n",
    "test_point = x[i].numpy()\n",
    "test_tri = indicies[:, i, :].numpy()[(indicies[:, i, :].numpy() != 20).all(axis=1)]\n",
    "\n",
    "mask = (tri[i].numpy() != 20).all(axis=1) * (tri[i].numpy() != -1).all(axis=1)\n",
    "reference_tri = tri[i].numpy()[mask]\n",
    "\n",
    "fig, ax = plt.subplots(1, 2, figsize=(10, 4))\n",
    "\n",
    "ax[0].triplot(test_point[:,0], test_point[:,1], test_tri)\n",
    "ax[0].plot(test_point[:,0], test_point[:,1], 'o');\n",
    "ax[0].set_title(\"Prediction\");\n",
    "\n",
    "ax[1].triplot(test_point[:,0], test_point[:,1], reference_tri)\n",
    "ax[1].plot(test_point[:,0], test_point[:,1], 'o');\n",
    "ax[1].set_title(\"Reference\");"
   ]
  },
  {
   "cell_type": "code",
   "execution_count": null,
   "id": "8b27656c-c9ee-4f52-acc3-cda99c4ae7a8",
   "metadata": {},
   "outputs": [],
   "source": []
  },
  {
   "cell_type": "code",
   "execution_count": 15,
   "id": "62b0f8a1-885d-402f-a4ff-87fa0b5fda27",
   "metadata": {},
   "outputs": [
    {
     "data": {
      "image/png": "[encoded data removed]",
      "text/plain": [
       "<Figure size 1000x400 with 2 Axes>"
      ]
     },
     "metadata": {},
     "output_type": "display_data"
    }
   ],
   "source": [
    "fig, ax = plt.subplots(1, 2, figsize=(10, 4))\n",
    "\n",
    "ax[0].plot(loss_trace);\n",
    "ax[0].grid();\n",
    "ax[0].set_title(\"Loss Trace\");\n",
    "ax[0].set_xlabel(\"Number of Updates\");\n",
    "ax[0].set_ylabel(\"Negative Log Probability Losss\");\n",
    "ax[1].plot(iou);\n",
    "ax[1].grid();\n",
    "ax[1].set_title(\"IOU\");\n",
    "ax[1].set_xlabel(\"Number of Updates\");\n",
    "ax[1].set_ylabel(\"IOU\");"
   ]
  },
  {
   "cell_type": "code",
   "execution_count": 12,
   "id": "74e44a25-39cf-44d8-a7e1-dc87299089a9",
   "metadata": {},
   "outputs": [
    {
     "data": {
      "application/vnd.jupyter.widget-view+json": {
       "model_id": "e906054b14bf4127ae627dd8eb6aa7d5",
       "version_major": 2,
       "version_minor": 0
      },
      "text/plain": [
       "  0%|          | 0/302 [00:00<?, ?it/s]"
      ]
     },
     "metadata": {},
     "output_type": "display_data"
    },
    {
     "name": "stdout",
     "output_type": "stream",
     "text": [
      "Average IOU w/o teacher forcing:  0.7412767655012623\n"
     ]
    }
   ],
   "source": [
    "##evaluate the model using IOU on train set\n",
    "iou_list = []\n",
    "for x, tri in tqdm(train_loader):\n",
    "    data_batch = make_pyg_batch_wedge(x, 5)\n",
    "    logits, indicies = model(data_batch, max_steps=50)\n",
    "    iou_list.append(iou_triangles(tri, indicies))\n",
    "print(\"Average IOU w/o teacher forcing: \", sum(iou_list)/len(iou_list))"
   ]
  },
  {
   "cell_type": "code",
   "execution_count": 14,
   "id": "774eabd7-a39c-4cee-888f-cc3e764380cd",
   "metadata": {},
   "outputs": [
    {
     "data": {
      "application/vnd.jupyter.widget-view+json": {
       "model_id": "0e3106653a0447a1abbed0065f8afcd8",
       "version_major": 2,
       "version_minor": 0
      },
      "text/plain": [
       "  0%|          | 0/302 [00:00<?, ?it/s]"
      ]
     },
     "metadata": {},
     "output_type": "display_data"
    },
    {
     "name": "stdout",
     "output_type": "stream",
     "text": [
      "Average accuracy w/o teacher forcing:  0.8620902455800417\n"
     ]
    }
   ],
   "source": [
    "##evaluate the model using IOU on train set\n",
    "accuracy_list = []\n",
    "for x, tri in tqdm(train_loader):\n",
    "    data_batch = make_pyg_batch_wedge(x, 5)\n",
    "    logits, indicies = model(data_batch, max_steps=50)\n",
    "    accuracy_list.append(iou_accuracy(tri, indicies))\n",
    "print(\"Average accuracy w/o teacher forcing: \", sum(accuracy_list)/len(accuracy_list))"
   ]
  },
  {
   "cell_type": "code",
   "execution_count": 15,
   "id": "6f7738a4-0aa6-4833-b9e9-514d1b193843",
   "metadata": {},
   "outputs": [
    {
     "data": {
      "application/vnd.jupyter.widget-view+json": {
       "model_id": "d3066d6c454747c28e2786d94cdcd105",
       "version_major": 2,
       "version_minor": 0
      },
      "text/plain": [
       "  0%|          | 0/20 [00:00<?, ?it/s]"
      ]
     },
     "metadata": {},
     "output_type": "display_data"
    },
    {
     "name": "stdout",
     "output_type": "stream",
     "text": [
      "Average IOU w/o teacher forcing:  0.7217896431684494\n"
     ]
    }
   ],
   "source": [
    "##evaluate the model using IOU on test set\n",
    "iou_list = []\n",
    "for x, tri in tqdm(test_loader):\n",
    "    data_batch = make_pyg_batch_wedge(x, 5)\n",
    "    logits, indicies = model(data_batch, max_steps=50)\n",
    "    iou_list.append(iou_triangles(tri, indicies))\n",
    "print(\"Average IOU w/o teacher forcing: \", sum(iou_list)/len(iou_list))"
   ]
  },
  {
   "cell_type": "code",
   "execution_count": 16,
   "id": "247c792d-224e-46dc-9e0d-1ee8be1488a9",
   "metadata": {},
   "outputs": [
    {
     "data": {
      "application/vnd.jupyter.widget-view+json": {
       "model_id": "84d56fd0e803455f898e3d92aaec2bc4",
       "version_major": 2,
       "version_minor": 0
      },
      "text/plain": [
       "  0%|          | 0/20 [00:00<?, ?it/s]"
      ]
     },
     "metadata": {},
     "output_type": "display_data"
    },
    {
     "name": "stdout",
     "output_type": "stream",
     "text": [
      "Average accuracy w/o teacher forcing:  0.8522561073303223\n"
     ]
    }
   ],
   "source": [
    "##evaluate the model using accuracy on test set\n",
    "accuracy_list = []\n",
    "for x, tri in tqdm(test_loader):\n",
    "    data_batch = make_pyg_batch_wedge(x, 5)\n",
    "    logits, indicies = model(data_batch, max_steps=50)\n",
    "    accuracy_list.append(iou_accuracy(tri, indicies))\n",
    "print(\"Average accuracy w/o teacher forcing: \", sum(accuracy_list)/len(accuracy_list))"
   ]
  },
  {
   "cell_type": "code",
   "execution_count": 11,
   "id": "227236a8-87e7-4eb6-a0e5-92041ad58e99",
   "metadata": {},
   "outputs": [
    {
     "ename": "NameError",
     "evalue": "name 'loss_trace' is not defined",
     "output_type": "error",
     "traceback": [
      "\u001b[0;31m---------------------------------------------------------------------------\u001b[0m",
      "\u001b[0;31mNameError\u001b[0m                                 Traceback (most recent call last)",
      "Cell \u001b[0;32mIn[11], line 97\u001b[0m\n\u001b[1;32m     94\u001b[0m ax[\u001b[38;5;241m1\u001b[39m][\u001b[38;5;241m0\u001b[39m]\u001b[38;5;241m.\u001b[39mset_aspect(\u001b[38;5;124m'\u001b[39m\u001b[38;5;124mequal\u001b[39m\u001b[38;5;124m'\u001b[39m, adjustable\u001b[38;5;241m=\u001b[39m\u001b[38;5;124m'\u001b[39m\u001b[38;5;124mbox\u001b[39m\u001b[38;5;124m'\u001b[39m);\n\u001b[1;32m     95\u001b[0m ax[\u001b[38;5;241m1\u001b[39m][\u001b[38;5;241m1\u001b[39m]\u001b[38;5;241m.\u001b[39mset_aspect(\u001b[38;5;124m'\u001b[39m\u001b[38;5;124mequal\u001b[39m\u001b[38;5;124m'\u001b[39m, adjustable\u001b[38;5;241m=\u001b[39m\u001b[38;5;124m'\u001b[39m\u001b[38;5;124mbox\u001b[39m\u001b[38;5;124m'\u001b[39m);\n\u001b[0;32m---> 97\u001b[0m ax[\u001b[38;5;241m0\u001b[39m][\u001b[38;5;241m2\u001b[39m]\u001b[38;5;241m.\u001b[39mplot(\u001b[43mloss_trace\u001b[49m);\n\u001b[1;32m     98\u001b[0m ax[\u001b[38;5;241m0\u001b[39m][\u001b[38;5;241m2\u001b[39m]\u001b[38;5;241m.\u001b[39mgrid();\n\u001b[1;32m     99\u001b[0m ax[\u001b[38;5;241m0\u001b[39m][\u001b[38;5;241m2\u001b[39m]\u001b[38;5;241m.\u001b[39mset_title(\u001b[38;5;124m\"\u001b[39m\u001b[38;5;124mLoss Trace\u001b[39m\u001b[38;5;124m\"\u001b[39m);\n",
      "\u001b[0;31mNameError\u001b[0m: name 'loss_trace' is not defined"
     ]
    },
    {
     "data": {
      "image/png": "[encoded data removed]",
      "text/plain": [
       "<Figure size 1200x800 with 6 Axes>"
      ]
     },
     "metadata": {},
     "output_type": "display_data"
    }
   ],
   "source": [
    "i = 2; j = 28\n",
    "\n",
    "test_point = x[i].numpy()\n",
    "test_tri = indicies[:, i, :].numpy()[(indicies[:, i, :].numpy() != 20).all(axis=1)]\n",
    "\n",
    "mask = (tri[i].numpy() != 20).all(axis=1) * (tri[i].numpy() != -1).all(axis=1)\n",
    "reference_tri = tri[i].numpy()[mask]\n",
    "\n",
    "fig, ax = plt.subplots(2, 3, figsize=(12, 8))\n",
    "\n",
    "ax[0][0].triplot(test_point[:,0], test_point[:,1], test_tri, color='maroon')\n",
    "ax[0][0].plot(test_point[:,0], test_point[:,1], 'o');\n",
    "ax[0][0].set_title(\"Prediction\");\n",
    "\n",
    "ax[0][1].triplot(test_point[:,0], test_point[:,1], reference_tri)\n",
    "ax[0][1].plot(test_point[:,0], test_point[:,1], 'o');\n",
    "ax[0][1].set_title(\"Reference\");\n",
    "\n",
    "\n",
    "tri_indices = test_tri           # (T, 3)\n",
    "coords      = test_point              # (N, 2)\n",
    "centroids   = coords[tri_indices].mean(axis=1)\n",
    "\n",
    "for t_id, (cx, cy) in enumerate(centroids):\n",
    "    if t_id == 0:\n",
    "        ax[0][0].text(cx, cy, str(t_id+1), fontsize=8,\n",
    "               ha=\"center\", va=\"center\", zorder=5, color='red',\n",
    "               bbox={                      # use literal to avoid shadowed dict()\n",
    "                   \"boxstyle\": \"circle,pad=0.08\",\n",
    "                   \"fc\": \"white\",\n",
    "                   \"ec\": \"red\",\n",
    "                   \"lw\": 0.8\n",
    "               })\n",
    "    else:\n",
    "        ax[0][0].text(cx, cy, str(t_id+1), fontsize=8,\n",
    "                   ha=\"center\", va=\"center\", zorder=5,\n",
    "                   bbox={                      # use literal to avoid shadowed dict()\n",
    "                       \"boxstyle\": \"circle,pad=0.08\",\n",
    "                       \"fc\": \"white\",\n",
    "                       \"ec\": \"black\",\n",
    "                       \"lw\": 0.8\n",
    "                   })\n",
    "\n",
    "ax[0][0].set_title(\"Predicted Mesh and Order\");\n",
    "ax[0][1].set_title(\"Reference Delaunay Mesh\");\n",
    "ax[0][0].axis(\"off\"); ax[0][1].axis(\"off\");\n",
    "ax[0][0].set_aspect('equal', adjustable='box');\n",
    "ax[0][1].set_aspect('equal', adjustable='box');\n",
    "\n",
    "#============================\n",
    "\n",
    "test_point = x[j].numpy()\n",
    "test_tri = indicies[:, j, :].numpy()[(indicies[:, j, :].numpy() != 20).all(axis=1)]\n",
    "\n",
    "mask = (tri[j].numpy() != 20).all(axis=1) * (tri[j].numpy() != -1).all(axis=1)\n",
    "reference_tri = tri[j].numpy()[mask]\n",
    "\n",
    "ax[1][0].triplot(test_point[:,0], test_point[:,1], test_tri, color='maroon')\n",
    "ax[1][0].plot(test_point[:,0], test_point[:,1], 'o');\n",
    "ax[1][0].set_title(\"Prediction\");\n",
    "\n",
    "ax[1][1].triplot(test_point[:,0], test_point[:,1], reference_tri)\n",
    "ax[1][1].plot(test_point[:,0], test_point[:,1], 'o');\n",
    "ax[1][1].set_title(\"Reference\");\n",
    "\n",
    "\n",
    "tri_indices = test_tri           # (T, 3)\n",
    "coords      = test_point              # (N, 2)\n",
    "centroids   = coords[tri_indices].mean(axis=1)\n",
    "\n",
    "for t_id, (cx, cy) in enumerate(centroids):\n",
    "    if t_id == 0:\n",
    "        ax[1][0].text(cx, cy, str(t_id+1), fontsize=8,\n",
    "               ha=\"center\", va=\"center\", zorder=5, color='red',\n",
    "               bbox={                      # use literal to avoid shadowed dict()\n",
    "                   \"boxstyle\": \"circle,pad=0.08\",\n",
    "                   \"fc\": \"white\",\n",
    "                   \"ec\": \"red\",\n",
    "                   \"lw\": 0.8\n",
    "               })\n",
    "    else:\n",
    "        ax[1][0].text(cx, cy, str(t_id+1), fontsize=8,\n",
    "                   ha=\"center\", va=\"center\", zorder=5,\n",
    "                   bbox={                      # use literal to avoid shadowed dict()\n",
    "                       \"boxstyle\": \"circle,pad=0.08\",\n",
    "                       \"fc\": \"white\",\n",
    "                       \"ec\": \"black\",\n",
    "                       \"lw\": 0.8\n",
    "                   })\n",
    "\n",
    "ax[1][0].set_title(\"Predicted Mesh and Order\");\n",
    "ax[1][1].set_title(\"Reference Delaunay Mesh\");\n",
    "ax[1][0].axis(\"off\"); ax[1][1].axis(\"off\");\n",
    "ax[1][0].set_aspect('equal', adjustable='box');\n",
    "ax[1][1].set_aspect('equal', adjustable='box');\n",
    "\n",
    "ax[0][2].plot(loss_trace);\n",
    "ax[0][2].grid();\n",
    "ax[0][2].set_title(\"Loss Trace\");\n",
    "ax[0][2].set_ylabel(\"Negative Log Probability Losss\");\n",
    "ax[1][2].plot(iou);\n",
    "ax[1][2].grid();\n",
    "ax[1][2].set_title(\"IOU\");\n",
    "ax[1][2].set_xlabel(\"Number of Updates\");\n",
    "ax[1][2].set_ylabel(\"IOU\");\n",
    "\n",
    "#plt.savefig(\"Results.png\", dpi=600);"
   ]
  },
  {
   "cell_type": "code",
   "execution_count": null,
   "id": "f014e60b-b833-40a0-bb17-f16428a47df3",
   "metadata": {},
   "outputs": [],
   "source": []
  },
  {
   "cell_type": "code",
   "execution_count": 218,
   "id": "8b775d51-b654-4fbf-a407-03e452d4a6d8",
   "metadata": {},
   "outputs": [],
   "source": [
    "#torch.save(model.state_dict(), 'model18.pt')"
   ]
  },
  {
   "cell_type": "code",
   "execution_count": 116,
   "id": "2dc7545a-e31f-4a98-9baf-d030a7c3b32b",
   "metadata": {},
   "outputs": [],
   "source": [
    "#test set\n",
    "data_test = np.load(\"test_5000_bfs_k5_N15.npz\")\n",
    "X_test = torch.Tensor(data_test[\"X\"]).to(device) #shape N, 15, 2 N = 10000\n",
    "tri_test = torch.Tensor(data_test[\"tri\"]).to(device)\n",
    "\n",
    "test_dataset = GraphDataSet_new(X_test, tri_test)\n",
    "batch_size = 256\n",
    "test_loader = DataLoader(test_dataset, batch_size=batch_size, shuffle=True)"
   ]
  },
  {
   "cell_type": "code",
   "execution_count": 118,
   "id": "c0259c45-8016-4dba-acb0-a6908b3bf869",
   "metadata": {},
   "outputs": [
    {
     "name": "stdout",
     "output_type": "stream",
     "text": [
      "Encoder output shape:  torch.Size([256, 15, 256])\n"
     ]
    }
   ],
   "source": [
    "for x, tri in test_loader:\n",
    "    break\n",
    "\n",
    "data_batch = make_pyg_batch_wedge(x, 5)\n",
    "logits, indicies = model(data_batch, max_steps=40, N=15)"
   ]
  },
  {
   "cell_type": "code",
   "execution_count": null,
   "id": "4754234b-1eb9-4eb6-bfa5-4cef76c74f6a",
   "metadata": {},
   "outputs": [],
   "source": []
  },
  {
   "cell_type": "code",
   "execution_count": 127,
   "id": "1f729522-62a0-4e0b-959a-6476d1e747d7",
   "metadata": {},
   "outputs": [
    {
     "data": {
      "image/png": "[encoded data removed]",
      "text/plain": [
       "<Figure size 1000x400 with 2 Axes>"
      ]
     },
     "metadata": {},
     "output_type": "display_data"
    }
   ],
   "source": [
    "i = 9\n",
    "end_index = x.shape[1]\n",
    "test_point = x[i].numpy()\n",
    "test_tri = indicies[:, i, :].numpy()[(indicies[:, i, :].numpy() != end_index).all(axis=1)]\n",
    "\n",
    "mask = (tri[i].numpy() != end_index).all(axis=1) * (tri[i].numpy() != -1).all(axis=1)\n",
    "reference_tri = tri[i].numpy()[mask]\n",
    "\n",
    "fig, ax = plt.subplots(1, 2, figsize=(10, 4))\n",
    "\n",
    "ax[0].triplot(test_point[:,0], test_point[:,1], test_tri)\n",
    "ax[0].plot(test_point[:,0], test_point[:,1], 'o');\n",
    "ax[0].set_title(\"Prediction\");\n",
    "\n",
    "ax[1].triplot(test_point[:,0], test_point[:,1], reference_tri)\n",
    "ax[1].plot(test_point[:,0], test_point[:,1], 'o');\n",
    "ax[1].set_title(\"Reference\");"
   ]
  },
  {
   "cell_type": "code",
   "execution_count": null,
   "id": "adb77025-92a0-44ce-9c2d-b1a2ed00ea1e",
   "metadata": {},
   "outputs": [],
   "source": []
  },
  {
   "cell_type": "code",
   "execution_count": null,
   "id": "2eae4714-f8ff-4ef2-ac20-5d3138cb5680",
   "metadata": {},
   "outputs": [],
   "source": []
  },
  {
   "cell_type": "code",
   "execution_count": null,
   "id": "b24583ca-0f38-4edc-9411-b1083f101e95",
   "metadata": {},
   "outputs": [],
   "source": []
  },
  {
   "cell_type": "code",
   "execution_count": null,
   "id": "4745c768-dee8-4bbb-a03e-e20c27c25164",
   "metadata": {},
   "outputs": [],
   "source": []
  },
  {
   "cell_type": "code",
   "execution_count": null,
   "id": "f194e000-0bae-414a-a377-9a1308f9fb9c",
   "metadata": {},
   "outputs": [],
   "source": []
  },
  {
   "cell_type": "code",
   "execution_count": null,
   "id": "11613b2d-2eb0-4e2a-a0ae-e6ee41d13a5f",
   "metadata": {},
   "outputs": [],
   "source": []
  },
  {
   "cell_type": "code",
   "execution_count": null,
   "id": "fbeda970-e9b6-40ad-9c78-f139c76ba0b5",
   "metadata": {},
   "outputs": [],
   "source": []
  }
 ],
 "metadata": {
  "kernelspec": {
   "display_name": "Python 3 (ipykernel)",
   "language": "python",
   "name": "python3"
  },
  "language_info": {
   "codemirror_mode": {
    "name": "ipython",
    "version": 3
   },
   "file_extension": ".py",
   "mimetype": "text/x-python",
   "name": "python",
   "nbconvert_exporter": "python",
   "pygments_lexer": "ipython3",
   "version": "3.11.11"
  }
 },
 "nbformat": 4,
 "nbformat_minor": 5
}
